{
 "cells": [
  {
   "cell_type": "code",
   "execution_count": 1,
   "id": "884f9e20",
   "metadata": {},
   "outputs": [],
   "source": [
    "import numpy as np\n",
    "import cv2\n",
    "import matplotlib.pyplot as plt"
   ]
  },
  {
   "cell_type": "markdown",
   "id": "ca5c340d",
   "metadata": {},
   "source": [
    "## Image Negatives"
   ]
  },
  {
   "cell_type": "code",
   "execution_count": 16,
   "id": "5f1a730a",
   "metadata": {},
   "outputs": [],
   "source": [
    "img = cv2.imread('../contents/Fig0304(a)(breast_digital_Xray).tif', cv2.IMREAD_GRAYSCALE)\n",
    "\n",
    "# Calculate the negative of the image\n",
    "imgNeg = 255 - img\n",
    "\n",
    "cv2.imshow('Original',img)\n",
    "cv2.imshow('Negative Image', imgNeg)\n",
    "cv2.waitKey(0)\n",
    "cv2.destroyAllWindows()"
   ]
  },
  {
   "cell_type": "markdown",
   "id": "1807bfcb",
   "metadata": {},
   "source": [
    "## Log Transformations\n",
    "- s = L -1 -r"
   ]
  },
  {
   "cell_type": "code",
   "execution_count": 8,
   "id": "766c814b",
   "metadata": {},
   "outputs": [],
   "source": [
    "img = cv2.imread('../contents/log.tif')\n",
    "\n",
    "# Apply the log transformation using cv2.log\n",
    "imgLog = cv2.log(img.astype('float32') + 1)\n",
    "\n",
    "'''\n",
    "# for row in range(img.shape[0]):\n",
    "#     for col in range(img.shape[1]):\n",
    "#         r = img[row,col,0]\n",
    "#         s = np.log10(1 + r)\n",
    "\n",
    "#         imgLog[row,col,0] = s\n",
    "#         imgLog[row,col,1] = s\n",
    "#         imgLog[row,col,2] = s\n",
    "'''\n",
    "        \n",
    "# Normalization (float to uint8)\n",
    "imgLog = (imgLog/np.max(imgLog)*255).astype('uint8')\n",
    "\n",
    "cv2.imshow('Original',img)\n",
    "cv2.imshow('Log Transformed Image', imgLog)\n",
    "cv2.waitKey(0)\n",
    "cv2.destroyAllWindows()"
   ]
  },
  {
   "cell_type": "markdown",
   "id": "6f8e8727",
   "metadata": {},
   "source": [
    "## Power Law (Gamma) Transformations\n",
    "- s = cr<sup>&#947;</sup>"
   ]
  },
  {
   "cell_type": "code",
   "execution_count": 11,
   "id": "cf174b50",
   "metadata": {},
   "outputs": [],
   "source": [
    "img = cv2.imread('../contents/gradient.tif', 0)\n",
    "\n",
    "gamma = 2.5\n",
    "\n",
    "# Apply the power law transoformation\n",
    "imgPow = np.power(img, gamma)\n",
    "\n",
    "# Normalize the image (float to uint8)\n",
    "imgPow = ((imgPow / np.max(imgPow)) * 255).astype('uint8')\n",
    "\n",
    "cv2.imshow('Original',img)\n",
    "cv2.imshow('Power Law Transformed Image', imgPow)\n",
    "cv2.waitKey(0)\n",
    "cv2.destroyAllWindows()"
   ]
  },
  {
   "cell_type": "markdown",
   "id": "4aacec1a",
   "metadata": {},
   "source": [
    "## Piecewise Linear Transformation\n",
    "### Contrast Stretching"
   ]
  },
  {
   "cell_type": "code",
   "execution_count": 12,
   "id": "3ef96727",
   "metadata": {},
   "outputs": [],
   "source": [
    "img = cv2.imread('../contents/p2.tif', cv2.IMREAD_GRAYSCALE)\n",
    "\n",
    "#contrast stretching\n",
    "min_val = np.min(img)\n",
    "max_val = np.max(img)\n",
    "imgContrastStretched = ((img - min_val) / (max_val - min_val) * 255).astype('uint8')\n",
    "\n",
    "cv2.imshow('Original', img)\n",
    "cv2.imshow('Contrast Stretched Image', imgContrastStretched)\n",
    "cv2.waitKey(0)\n",
    "cv2.destroyAllWindows()"
   ]
  },
  {
   "cell_type": "markdown",
   "id": "93e5674e",
   "metadata": {},
   "source": [
    "### Thresholding"
   ]
  },
  {
   "cell_type": "code",
   "execution_count": null,
   "id": "4bb95755",
   "metadata": {
    "scrolled": true
   },
   "outputs": [],
   "source": [
    "img = cv2.imread('../contents/rose.tif', 0)\n",
    "\n",
    "# Create a histogram of the image\n",
    "hist, bins = np.histogram(img.flatten(), bins=256, range=[0, 256])\n",
    "\n",
    "# Plot the histogram\n",
    "plt.plot(hist, color='black')\n",
    "plt.xlabel('Pixel Value')\n",
    "plt.ylabel('Frequency')\n",
    "plt.title('Histogram of the Image')\n",
    "plt.show()\n",
    "\n",
    "threshold_value = 28\n",
    "_, imgThresholded = cv2.threshold(img, threshold_value, 255, cv2.THRESH_BINARY)\n",
    "\n",
    "# Resize the image\n",
    "imgThresholded = cv2.resize(imgThresholded, (500,550))\n",
    "\n",
    "cv2.imshow('Original', img)\n",
    "cv2.imshow('Thresholded Image', imgThresholded)\n",
    "cv2.waitKey(0)\n",
    "cv2.destroyAllWindows()"
   ]
  },
  {
   "cell_type": "markdown",
   "id": "37ee7bef",
   "metadata": {},
   "source": [
    "## Histogram Processing\n",
    "\n",
    "### Concept:\n",
    "\n",
    "- A histogram is like a bar chart that shows the distribution of pixel intensities in an image.\n",
    "- Histogram processing involves making adjustments to the pixel values in an image to achieve a desired visual effect.\n",
    "\n",
    "### Histogram Processing (Contrast Stretching):\n",
    "\n",
    "- One common form of histogram processing is called contrast stretching.\n",
    "- Contrast stretching aims to improve the overall contrast of an image by expanding or stretching the range of pixel values.\n",
    "\n",
    "- Histogram processing is like adjusting the brightness and contrast of an image to make it look better and reveal more details.\n",
    "<hr />"
   ]
  },
  {
   "cell_type": "markdown",
   "id": "6d278544",
   "metadata": {},
   "source": [
    "## Histogram Equalization\n",
    "\n",
    "- Histogram equalization is a method to enhance the overall contrast of an image.\n",
    "- It aims to make the histogram as uniform as possible, spreading out pixel values evenly across the entire intensity range."
   ]
  },
  {
   "cell_type": "code",
   "execution_count": 3,
   "id": "4f77b653",
   "metadata": {},
   "outputs": [],
   "source": [
    "img = cv2.imread('../contents/rose.tif', 0)\n",
    "\n",
    "imgEqualized = cv2.equalizeHist(img)\n",
    "\n",
    "cv2.imshow('Original', img)\n",
    "cv2.imshow('Equalized', imgEqualized)\n",
    "cv2.waitKey(0)\n",
    "cv2.destroyAllWindows()"
   ]
  },
  {
   "cell_type": "markdown",
   "id": "ec107b5d",
   "metadata": {},
   "source": [
    "## Histogram Matching:\n",
    "### Concept:\n",
    "\n",
    "Histogram matching is a way to make one image look more like another in terms of brightness and contrast.\n",
    "It involves adjusting the pixel values of one image to match the histogram of another.\n",
    "\n",
    "### Histogram Matching:\n",
    "\n",
    "It's like saying, \"Make my image look as bright and contrasty as this other reference image.\"\n",
    "\n",
    "Example:\n",
    "\n",
    "- If you have a photo taken in low light, you can use histogram matching with a well-exposed photo as a reference to improve the brightness and contrast of the low-light photo."
   ]
  },
  {
   "cell_type": "code",
   "execution_count": null,
   "id": "3a41ad13",
   "metadata": {},
   "outputs": [],
   "source": []
  }
 ],
 "metadata": {
  "kernelspec": {
   "display_name": "Python 3 (ipykernel)",
   "language": "python",
   "name": "python3"
  },
  "language_info": {
   "codemirror_mode": {
    "name": "ipython",
    "version": 3
   },
   "file_extension": ".py",
   "mimetype": "text/x-python",
   "name": "python",
   "nbconvert_exporter": "python",
   "pygments_lexer": "ipython3",
   "version": "3.11.5"
  }
 },
 "nbformat": 4,
 "nbformat_minor": 5
}
