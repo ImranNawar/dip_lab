{
 "cells": [
  {
   "cell_type": "code",
   "execution_count": 1,
   "id": "8f1412a5",
   "metadata": {},
   "outputs": [],
   "source": [
    "import numpy as np\n",
    "import cv2\n",
    "import matplotlib.pyplot as plt"
   ]
  },
  {
   "cell_type": "markdown",
   "id": "3b83b9b2",
   "metadata": {},
   "source": [
    "## Low pass filtering with a box kernel"
   ]
  },
  {
   "cell_type": "code",
   "execution_count": 2,
   "id": "a5597522",
   "metadata": {},
   "outputs": [],
   "source": [
    "img = cv2.imread('../contents/circuit.jpg', 0)\n",
    "\n",
    "kernel_size = 3\n",
    "box_kernel =  np.ones((kernel_size, kernel_size), np.float32) / (kernel_size * kernel_size)\n",
    "\n",
    "# Apply the filter using cv2.filter2D\n",
    "filtered_img = cv2.filter2D(img, -1, box_kernel)\n",
    "\n",
    "cv2.imshow('Original', img)\n",
    "cv2.imshow('Low Pass Filtered', filtered_img)\n",
    "cv2.waitKey(0)\n",
    "cv2.destroyAllWindows()"
   ]
  },
  {
   "cell_type": "markdown",
   "id": "09029e49",
   "metadata": {},
   "source": [
    "## Low pass Gaussian Filter Kernel"
   ]
  },
  {
   "cell_type": "code",
   "execution_count": 7,
   "id": "23372080",
   "metadata": {},
   "outputs": [],
   "source": [
    "img = cv2.imread('../contents/circuit.jpg', 0)\n",
    "\n",
    "\n",
    "# Apply the filter using cv2.filter2D\n",
    "imgGaussianBlur = cv2.GaussianBlur(img, (3,3), 0)\n",
    "\n",
    "cv2.imshow('Original', img)\n",
    "cv2.imshow('Low Pass Filtered', imgGaussianBlur)\n",
    "cv2.waitKey(0)\n",
    "cv2.destroyAllWindows()"
   ]
  },
  {
   "cell_type": "markdown",
   "id": "55a8fc75",
   "metadata": {},
   "source": [
    "## Low pass filtering and thresholding for region extraction"
   ]
  },
  {
   "cell_type": "code",
   "execution_count": 17,
   "id": "f4f62965",
   "metadata": {},
   "outputs": [],
   "source": [
    "img = cv2.imread('../contents/log.tif', 0)\n",
    "\n",
    "kernel_size = 5\n",
    "box_kernel =  np.ones((kernel_size, kernel_size), np.float32) / (kernel_size * kernel_size)\n",
    "\n",
    "# Apply the filter using cv2.filter2D\n",
    "filteredImg = cv2.filter2D(img, -1, box_kernel)\n",
    "\n",
    "# hist, bins = np.histogram(filteredImg.flatten(), bins=256, range=[0, 256])\n",
    "\n",
    "# # Plot the histogram\n",
    "# plt.plot(hist, color='black')\n",
    "# plt.xlabel('Pixel Value')\n",
    "# plt.ylabel('Frequency')\n",
    "# plt.title('Histogram of the Image')\n",
    "# plt.show()\n",
    "threshold_value = 15\n",
    "_, imgThresholded = cv2.threshold(filteredImg, threshold_value, 255, cv2.THRESH_BINARY)\n",
    "\n",
    "cv2.imshow('Original', img)\n",
    "cv2.imshow('filteredImg', filteredImg)\n",
    "cv2.imshow('Thresholded Img', imgThresholded)\n",
    "cv2.waitKey(0)\n",
    "cv2.destroyAllWindows()"
   ]
  },
  {
   "cell_type": "markdown",
   "id": "605b9d9d",
   "metadata": {},
   "source": [
    "## Median Filtering"
   ]
  },
  {
   "cell_type": "code",
   "execution_count": 23,
   "id": "61eba4c9",
   "metadata": {},
   "outputs": [],
   "source": [
    "img = cv2.imread('../contents/circuit.jpg', 0)\n",
    "\n",
    "imgMedian = cv2.medianBlur(img, 3)\n",
    "\n",
    "cv2.imshow('Original', img)\n",
    "cv2.imshow('Median Blurred', imgMedian)\n",
    "cv2.waitKey(0)\n",
    "cv2.destroyAllWindows()"
   ]
  },
  {
   "cell_type": "code",
   "execution_count": null,
   "id": "9565f327",
   "metadata": {},
   "outputs": [],
   "source": []
  }
 ],
 "metadata": {
  "kernelspec": {
   "display_name": "Python 3 (ipykernel)",
   "language": "python",
   "name": "python3"
  },
  "language_info": {
   "codemirror_mode": {
    "name": "ipython",
    "version": 3
   },
   "file_extension": ".py",
   "mimetype": "text/x-python",
   "name": "python",
   "nbconvert_exporter": "python",
   "pygments_lexer": "ipython3",
   "version": "3.11.5"
  }
 },
 "nbformat": 4,
 "nbformat_minor": 5
}
