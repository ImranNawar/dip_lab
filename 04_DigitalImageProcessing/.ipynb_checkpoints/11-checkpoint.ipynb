{
 "cells": [
  {
   "cell_type": "code",
   "execution_count": 1,
   "id": "e56dad35",
   "metadata": {},
   "outputs": [],
   "source": [
    "import numpy as np\n",
    "import cv2\n",
    "import matplotlib.pyplot as plt"
   ]
  },
  {
   "cell_type": "markdown",
   "id": "4fcf6a2d",
   "metadata": {},
   "source": [
    "## The Harris-Stephens Corner Detector"
   ]
  },
  {
   "cell_type": "code",
   "execution_count": null,
   "id": "f3a3f6ad",
   "metadata": {},
   "outputs": [],
   "source": []
  },
  {
   "cell_type": "markdown",
   "id": "7a06b546",
   "metadata": {},
   "source": [
    "## Using SIFT for image matching"
   ]
  },
  {
   "cell_type": "code",
   "execution_count": null,
   "id": "1c17a17f",
   "metadata": {},
   "outputs": [],
   "source": []
  }
 ],
 "metadata": {
  "kernelspec": {
   "display_name": "Python 3 (ipykernel)",
   "language": "python",
   "name": "python3"
  },
  "language_info": {
   "codemirror_mode": {
    "name": "ipython",
    "version": 3
   },
   "file_extension": ".py",
   "mimetype": "text/x-python",
   "name": "python",
   "nbconvert_exporter": "python",
   "pygments_lexer": "ipython3",
   "version": "3.11.5"
  }
 },
 "nbformat": 4,
 "nbformat_minor": 5
}
