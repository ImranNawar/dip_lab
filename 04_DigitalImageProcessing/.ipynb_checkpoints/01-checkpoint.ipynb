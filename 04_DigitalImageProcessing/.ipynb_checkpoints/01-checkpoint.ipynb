{
 "cells": [
  {
   "cell_type": "code",
   "execution_count": 1,
   "id": "5d77a190",
   "metadata": {},
   "outputs": [],
   "source": [
    "import numpy as np\n",
    "import cv2\n",
    "import matplotlib.pyplot as plt"
   ]
  },
  {
   "cell_type": "code",
   "execution_count": 2,
   "id": "fb0b8248",
   "metadata": {},
   "outputs": [],
   "source": [
    "def show(image, title=None):\n",
    "    cv2.imshow(title, image)\n",
    "    cv2.waitKey(0)\n",
    "    cv2.destroyAllWindows()"
   ]
  },
  {
   "cell_type": "markdown",
   "id": "e91889b8",
   "metadata": {},
   "source": [
    "## A black image with white boxes"
   ]
  },
  {
   "cell_type": "code",
   "execution_count": 18,
   "id": "da1cbaca",
   "metadata": {},
   "outputs": [],
   "source": [
    "img = (500,500,3) # (height, width, channels)\n",
    "black_img = np.zeros(img, dtype=np.uint8)\n",
    "\n",
    "black_img[100:200, 100:200, :] = [255, 255, 255]\n",
    "black_img[100:200, 300:400, :] = [255, 255, 255] \n",
    "\n",
    "# Display the image using OpenCV\n",
    "cv2.imshow(\"Black\", black_img)\n",
    "cv2.waitKey(0)\n",
    "cv2.destroyAllWindows()\n"
   ]
  },
  {
   "cell_type": "markdown",
   "id": "7926a42b",
   "metadata": {},
   "source": [
    "## Image addition (averaging) for noise reduction"
   ]
  },
  {
   "cell_type": "code",
   "execution_count": 28,
   "id": "8e8caf7c",
   "metadata": {},
   "outputs": [],
   "source": [
    "image1 = cv2.imread('../03_OpenCV/images/circuit.jpg')\n",
    "image2 = cv2.imread('../03_OpenCV/images/circuit2.png')\n",
    "\n",
    "if image1 is None or image2 is None:\n",
    "    print(\"Error: Could not read one or both of the images\")\n",
    "    exit()\n",
    "# Resize image2 to match the size of image1\n",
    "image2 = cv2.resize(image2, (image1.shape[1], image1.shape[0]))\n",
    "\n",
    "resultImage = cv2.add(image1, image2)\n",
    "\n",
    "cv2.imshow(\"Image 1\", image1)\n",
    "cv2.imshow(\"Image 2\", image2)\n",
    "cv2.imshow(\"Result Image\", resultImage)\n",
    "cv2.waitKey(0)\n",
    "cv2.destroyAllWindows()\n"
   ]
  },
  {
   "cell_type": "markdown",
   "id": "b6912b74",
   "metadata": {},
   "source": [
    "## Comparing images using subtraction"
   ]
  },
  {
   "cell_type": "code",
   "execution_count": 32,
   "id": "0edecbb5",
   "metadata": {},
   "outputs": [],
   "source": [
    "image1 = cv2.imread('../03_OpenCV/images/circuit.jpg')\n",
    "image2 = cv2.imread('../03_OpenCV/images/circuit2.png')\n",
    "\n",
    "if image1 is None or image2 is None:\n",
    "    print(\"Error: Could not read one or both of the images\")\n",
    "    exit()\n",
    "# Resize image2 to match the size of image1\n",
    "image2 = cv2.resize(image2, (image1.shape[1], image1.shape[0]))\n",
    "\n",
    "# Compute the absolute difference between the two images\n",
    "differenceImage = cv2.absdiff(image1, image2)\n",
    "\n",
    "cv2.imshow(\"Image 1\", image1)\n",
    "cv2.imshow(\"Image 2\", image2)\n",
    "cv2.imshow(\"Result Image\", differenceImage)\n",
    "cv2.waitKey(0)\n",
    "cv2.destroyAllWindows()"
   ]
  },
  {
   "cell_type": "markdown",
   "id": "8ad0d667",
   "metadata": {},
   "source": [
    "## Image multiplication and division for shading correction and for masking"
   ]
  },
  {
   "cell_type": "code",
   "execution_count": 35,
   "id": "3cad7ab3",
   "metadata": {},
   "outputs": [],
   "source": [
    "# Shading correction using division\n",
    "image = cv2.imread('../03_OpenCV/images/circuit.jpg')\n",
    "\n",
    "# Convert the image to floating-point for accurate division\n",
    "image_float = image.astype(np.float32)\n",
    "\n",
    "shadding_image = cv2.GaussianBlur(image_float, (0,0), 5)\n",
    "\n",
    "shadding_corrected_image = cv2.divide(image_float, shadding_image)\n",
    "\n",
    "cv2.imshow(\"Original Image\", image)\n",
    "cv2.imshow(\"Shadding Image\", shadding_image)\n",
    "cv2.imshow(\"Result Image\", shadding_corrected_image)\n",
    "cv2.waitKey(0)\n",
    "cv2.destroyAllWindows()"
   ]
  },
  {
   "cell_type": "code",
   "execution_count": null,
   "id": "a24d19ef",
   "metadata": {},
   "outputs": [],
   "source": [
    "# Image multiplication for Masking\n",
    "image = cv2.imread('../03_OpenCV/images/circuit.jpg')\n",
    "\n",
    "gray_image = cv2.cvtColor(image, cv2.COLOR_BGR2GRAY)\n",
    "\n",
    "# Threshold the grayscale image to create a binary mask\n",
    "_, binary_mask = cv2.threshold(gray_image, 128, 288, cv2.THRESH_BINARY)\n",
    "\n",
    "# Convert the binary mask to a 3-channel image\n",
    "binary_mask_rgb = cv2.cvtColor(binary_mask, cv2.COLOR_GRAY2BGR)\n",
    "\n",
    "masked_Image = cv2.multiply(image, binary_mask_rgb)\n",
    "\n",
    "cv2.imshow(\"Original Image\", image)\n",
    "cv2.imshow(\"Shadding Image\", masked_Image)\n",
    "cv2.imshow(\"Result Image\", masked_Image)\n",
    "cv2.waitKey(0)\n",
    "cv2.destroyAllWindows()"
   ]
  },
  {
   "cell_type": "markdown",
   "id": "e587571e",
   "metadata": {},
   "source": [
    "## Union"
   ]
  },
  {
   "cell_type": "code",
   "execution_count": 2,
   "id": "117f04d2",
   "metadata": {},
   "outputs": [
    {
     "data": {
      "image/png": "[encoded data removed]",
      "text/plain": [
       "<Figure size 640x480 with 3 Axes>"
      ]
     },
     "metadata": {},
     "output_type": "display_data"
    }
   ],
   "source": [
    "image1 = np.zeros((100,100), dtype=np.uint8)\n",
    "image2 = np.zeros((100, 100), dtype=np.uint8)\n",
    "\n",
    "# Set some pixels to 255 in both images\n",
    "image1[30:70, 30:70] = 255\n",
    "image2[50:90, 50:90] = 255\n",
    "\n",
    "# Perform union\n",
    "union_result = cv2.bitwise_or(image1, image2)\n",
    "\n",
    "# Display the images and the result\n",
    "plt.subplot(1, 3, 1)\n",
    "plt.imshow(image1, cmap='gray')\n",
    "plt.title('Image 1')\n",
    "plt.axis('off')\n",
    "\n",
    "plt.subplot(1, 3, 2)\n",
    "plt.imshow(image2, cmap='gray')\n",
    "plt.title('Image 2')\n",
    "plt.axis('off')\n",
    "\n",
    "plt.subplot(1, 3, 3)\n",
    "plt.imshow(union_result, cmap='gray')\n",
    "plt.title('Union')\n",
    "plt.axis('off')\n",
    "\n",
    "plt.show()"
   ]
  },
  {
   "cell_type": "markdown",
   "id": "ee9de8d5",
   "metadata": {},
   "source": [
    "## Intersection"
   ]
  },
  {
   "cell_type": "code",
   "execution_count": 3,
   "id": "6a21333b",
   "metadata": {},
   "outputs": [
    {
     "data": {
      "image/png": "[encoded data removed]",
      "text/plain": [
       "<Figure size 640x480 with 3 Axes>"
      ]
     },
     "metadata": {},
     "output_type": "display_data"
    }
   ],
   "source": [
    "# Perform intersection\n",
    "intersection_result = cv2.bitwise_and(image1, image2)\n",
    "\n",
    "# Display the images and the result\n",
    "plt.subplot(1, 3, 1)\n",
    "plt.imshow(image1, cmap='gray')\n",
    "plt.title('Image 1')\n",
    "plt.axis('off')\n",
    "\n",
    "plt.subplot(1, 3, 2)\n",
    "plt.imshow(image2, cmap='gray')\n",
    "plt.title('Image 2')\n",
    "plt.axis('off')\n",
    "\n",
    "plt.subplot(1, 3, 3)\n",
    "plt.imshow(intersection_result, cmap='gray')\n",
    "plt.title('Intersection')\n",
    "plt.axis('off')\n",
    "\n",
    "plt.show()"
   ]
  },
  {
   "cell_type": "markdown",
   "id": "a31c1a5c",
   "metadata": {},
   "source": [
    "## Compliment"
   ]
  },
  {
   "cell_type": "code",
   "execution_count": 4,
   "id": "2b3e2d04",
   "metadata": {},
   "outputs": [
    {
     "data": {
      "image/png": "[encoded data removed]",
      "text/plain": [
       "<Figure size 640x480 with 4 Axes>"
      ]
     },
     "metadata": {},
     "output_type": "display_data"
    }
   ],
   "source": [
    "# Perform complement (negation) for each image\n",
    "complement_image1 = cv2.bitwise_not(image1)\n",
    "complement_image2 = cv2.bitwise_not(image2)\n",
    "\n",
    "# Display the images and their complements\n",
    "plt.subplot(2, 2, 1)\n",
    "plt.imshow(image1, cmap='gray')\n",
    "plt.title('Image 1')\n",
    "plt.axis('off')\n",
    "\n",
    "plt.subplot(2, 2, 2)\n",
    "plt.imshow(complement_image1, cmap='gray')\n",
    "plt.title('Complement 1')\n",
    "plt.axis('off')\n",
    "\n",
    "plt.subplot(2, 2, 3)\n",
    "plt.imshow(image2, cmap='gray')\n",
    "plt.title('Image 2')\n",
    "plt.axis('off')\n",
    "\n",
    "plt.subplot(2, 2, 4)\n",
    "plt.imshow(complement_image2, cmap='gray')\n",
    "plt.title('Complement 2')\n",
    "plt.axis('off')\n",
    "\n",
    "plt.show()"
   ]
  },
  {
   "cell_type": "code",
   "execution_count": null,
   "id": "0467913a",
   "metadata": {},
   "outputs": [],
   "source": []
  }
 ],
 "metadata": {
  "kernelspec": {
   "display_name": "Python 3 (ipykernel)",
   "language": "python",
   "name": "python3"
  },
  "language_info": {
   "codemirror_mode": {
    "name": "ipython",
    "version": 3
   },
   "file_extension": ".py",
   "mimetype": "text/x-python",
   "name": "python",
   "nbconvert_exporter": "python",
   "pygments_lexer": "ipython3",
   "version": "3.11.5"
  }
 },
 "nbformat": 4,
 "nbformat_minor": 5
}
