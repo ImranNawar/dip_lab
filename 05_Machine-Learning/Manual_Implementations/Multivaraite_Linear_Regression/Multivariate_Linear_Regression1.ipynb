{
 "cells": [
  {
   "cell_type": "markdown",
   "id": "e9a56cf5",
   "metadata": {},
   "source": [
    "### Multivariate linear regression\n",
    "- Manual implementation"
   ]
  },
  {
   "cell_type": "code",
   "execution_count": null,
   "id": "094da0c2",
   "metadata": {},
   "outputs": [],
   "source": [
    "import numpy as np\n",
    "import pandas as pd\n",
    "import matplotlib.pyplot as plt"
   ]
  },
  {
   "cell_type": "code",
   "execution_count": 63,
   "id": "1b9d5aa6",
   "metadata": {},
   "outputs": [],
   "source": [
    "x = np.loadtxt('./ex3Data/ex3x.dat', dtype=np.float32)\n",
    "y = np.loadtxt('./ex3Data/ex3y.dat', dtype=np.float32)"
   ]
  },
  {
   "cell_type": "code",
   "execution_count": 101,
   "id": "67ce70c2",
   "metadata": {
    "scrolled": true
   },
   "outputs": [
    {
     "data": {
      "text/plain": [
       "array([[1.000e+00, 2.104e+03, 3.000e+00],\n",
       "       [1.000e+00, 1.600e+03, 3.000e+00],\n",
       "       [1.000e+00, 2.400e+03, 3.000e+00],\n",
       "       [1.000e+00, 1.416e+03, 2.000e+00],\n",
       "       [1.000e+00, 3.000e+03, 4.000e+00],\n",
       "       [1.000e+00, 1.985e+03, 4.000e+00],\n",
       "       [1.000e+00, 1.534e+03, 3.000e+00],\n",
       "       [1.000e+00, 1.427e+03, 3.000e+00],\n",
       "       [1.000e+00, 1.380e+03, 3.000e+00],\n",
       "       [1.000e+00, 1.494e+03, 3.000e+00],\n",
       "       [1.000e+00, 1.940e+03, 4.000e+00],\n",
       "       [1.000e+00, 2.000e+03, 3.000e+00],\n",
       "       [1.000e+00, 1.890e+03, 3.000e+00],\n",
       "       [1.000e+00, 4.478e+03, 5.000e+00],\n",
       "       [1.000e+00, 1.268e+03, 3.000e+00],\n",
       "       [1.000e+00, 2.300e+03, 4.000e+00],\n",
       "       [1.000e+00, 1.320e+03, 2.000e+00],\n",
       "       [1.000e+00, 1.236e+03, 3.000e+00],\n",
       "       [1.000e+00, 2.609e+03, 4.000e+00],\n",
       "       [1.000e+00, 3.031e+03, 4.000e+00],\n",
       "       [1.000e+00, 1.767e+03, 3.000e+00],\n",
       "       [1.000e+00, 1.888e+03, 2.000e+00],\n",
       "       [1.000e+00, 1.604e+03, 3.000e+00],\n",
       "       [1.000e+00, 1.962e+03, 4.000e+00],\n",
       "       [1.000e+00, 3.890e+03, 3.000e+00],\n",
       "       [1.000e+00, 1.100e+03, 3.000e+00],\n",
       "       [1.000e+00, 1.458e+03, 3.000e+00],\n",
       "       [1.000e+00, 2.526e+03, 3.000e+00],\n",
       "       [1.000e+00, 2.200e+03, 3.000e+00],\n",
       "       [1.000e+00, 2.637e+03, 3.000e+00],\n",
       "       [1.000e+00, 1.839e+03, 2.000e+00],\n",
       "       [1.000e+00, 1.000e+03, 1.000e+00],\n",
       "       [1.000e+00, 2.040e+03, 4.000e+00],\n",
       "       [1.000e+00, 3.137e+03, 3.000e+00],\n",
       "       [1.000e+00, 1.811e+03, 4.000e+00],\n",
       "       [1.000e+00, 1.437e+03, 3.000e+00],\n",
       "       [1.000e+00, 1.239e+03, 3.000e+00],\n",
       "       [1.000e+00, 2.132e+03, 4.000e+00],\n",
       "       [1.000e+00, 4.215e+03, 4.000e+00],\n",
       "       [1.000e+00, 2.162e+03, 4.000e+00],\n",
       "       [1.000e+00, 1.664e+03, 2.000e+00],\n",
       "       [1.000e+00, 2.238e+03, 3.000e+00],\n",
       "       [1.000e+00, 2.567e+03, 4.000e+00],\n",
       "       [1.000e+00, 1.200e+03, 3.000e+00],\n",
       "       [1.000e+00, 8.520e+02, 2.000e+00],\n",
       "       [1.000e+00, 1.852e+03, 4.000e+00],\n",
       "       [1.000e+00, 1.203e+03, 3.000e+00]])"
      ]
     },
     "execution_count": 101,
     "metadata": {},
     "output_type": "execute_result"
    }
   ],
   "source": [
    "# add the x_0 = 1 intercept term into x matrix\n",
    "X = np.ones((x.shape[0], 3))\n",
    "X[:, 1:] = x\n",
    "X"
   ]
  },
  {
   "cell_type": "code",
   "execution_count": 102,
   "id": "eb047530",
   "metadata": {},
   "outputs": [],
   "source": [
    "# Scale features\n",
    "sigma = np.std(X, axis=0)\n",
    "mu = np.mean(X, axis=0)\n",
    "X[:, 1:] = (X[:, 1:] - mu[1:]) / sigma[1:]"
   ]
  },
  {
   "cell_type": "code",
   "execution_count": 103,
   "id": "f226b9ad",
   "metadata": {},
   "outputs": [],
   "source": [
    "def hypothesis(x, w):\n",
    "    return (np.dot(X,w))"
   ]
  },
  {
   "cell_type": "code",
   "execution_count": 104,
   "id": "dd2ce3bc",
   "metadata": {},
   "outputs": [],
   "source": [
    "def cost(x, y_predicted, y):\n",
    "    return (1/(2 * X.shape[0]) * sum(y_predicted - y) ** 2)"
   ]
  },
  {
   "cell_type": "code",
   "execution_count": 105,
   "id": "342fc2b8",
   "metadata": {},
   "outputs": [],
   "source": [
    "def gradient(x, y_predicted, y):\n",
    "    return (1/X.shape[0] * np.dot(X.T, (y_predicted - y)))"
   ]
  },
  {
   "cell_type": "code",
   "execution_count": 150,
   "id": "5bfdb17f",
   "metadata": {
    "collapsed": true
   },
   "outputs": [
    {
     "name": "stdout",
     "output_type": "stream",
     "text": [
      "Epoch 1: Loss = 2723198301766.223\n",
      "Epoch 2: Loss = 2509699554907.752\n",
      "Epoch 3: Loss = 2312939109802.984\n",
      "Epoch 4: Loss = 2131604683594.429\n",
      "Epoch 5: Loss = 1964486876400.627\n",
      "Epoch 6: Loss = 1810471105290.816\n",
      "Epoch 7: Loss = 1668530170636.017\n",
      "Epoch 8: Loss = 1537717405258.153\n",
      "Epoch 9: Loss = 1417160360685.914\n",
      "Epoch 10: Loss = 1306054988408.138\n",
      "Epoch 11: Loss = 1203660277316.941\n",
      "Epoch 12: Loss = 1109293311575.292\n",
      "Epoch 13: Loss = 1022324715947.788\n",
      "Epoch 14: Loss = 942174458217.483\n",
      "Epoch 15: Loss = 868307980693.233\n",
      "Epoch 16: Loss = 800232635006.883\n",
      "Epoch 17: Loss = 737494396422.343\n",
      "Epoch 18: Loss = 679674835742.831\n",
      "Epoch 19: Loss = 626388328620.593\n",
      "Epoch 20: Loss = 577279483656.739\n",
      "Epoch 21: Loss = 532020772138.050\n",
      "Epoch 22: Loss = 490310343602.427\n",
      "Epoch 23: Loss = 451870012663.998\n",
      "Epoch 24: Loss = 416443403671.140\n",
      "Epoch 25: Loss = 383794240823.323\n",
      "Epoch 26: Loss = 353704772342.774\n",
      "Epoch 27: Loss = 325974318191.101\n",
      "Epoch 28: Loss = 300417931644.918\n",
      "Epoch 29: Loss = 276865165803.956\n",
      "Epoch 30: Loss = 255158936804.926\n",
      "Epoch 31: Loss = 235154476159.420\n",
      "Epoch 32: Loss = 216718365228.522\n",
      "Epoch 33: Loss = 199727645394.606\n",
      "Epoch 34: Loss = 184068997995.668\n",
      "Epoch 35: Loss = 169637988552.808\n",
      "Epoch 36: Loss = 156338370250.268\n",
      "Epoch 37: Loss = 144081442022.647\n",
      "Epoch 38: Loss = 132785456968.071\n",
      "Epoch 39: Loss = 122375077141.774\n",
      "Epoch 40: Loss = 112780871093.860\n",
      "Epoch 41: Loss = 103938850800.101\n",
      "Epoch 42: Loss = 95790044897.373\n",
      "Epoch 43: Loss = 88280105377.419\n",
      "Epoch 44: Loss = 81358945115.829\n",
      "Epoch 45: Loss = 74980403818.748\n",
      "Epoch 46: Loss = 69101940159.358\n",
      "Epoch 47: Loss = 63684348050.865\n",
      "Epoch 48: Loss = 58691495163.677\n",
      "Epoch 49: Loss = 54090081942.845\n",
      "Epoch 50: Loss = 49849419518.526\n",
      "Epoch 51: Loss = 45941225028.273\n",
      "Epoch 52: Loss = 42339432986.057\n",
      "Epoch 53: Loss = 39020021439.950\n",
      "Epoch 54: Loss = 35960851759.058\n",
      "Epoch 55: Loss = 33141520981.148\n",
      "Epoch 56: Loss = 30543225736.226\n",
      "Epoch 57: Loss = 28148636838.505\n",
      "Epoch 58: Loss = 25941783710.367\n",
      "Epoch 59: Loss = 23907947867.474\n",
      "Epoch 60: Loss = 22033564754.664\n",
      "Epoch 61: Loss = 20306133277.898\n",
      "Epoch 62: Loss = 18714132428.911\n",
      "Epoch 63: Loss = 17246944446.484\n",
      "Epoch 64: Loss = 15894784001.880\n",
      "Epoch 65: Loss = 14648632936.133\n",
      "Epoch 66: Loss = 13500180113.940\n",
      "Epoch 67: Loss = 12441765993.007\n",
      "Epoch 68: Loss = 11466331539.155\n",
      "Epoch 69: Loss = 10567371146.485\n",
      "Epoch 70: Loss = 9738889248.601\n",
      "Epoch 71: Loss = 8975360331.511\n",
      "Epoch 72: Loss = 8271692081.520\n",
      "Epoch 73: Loss = 7623191422.329\n",
      "Epoch 74: Loss = 7025533214.818\n",
      "Epoch 75: Loss = 6474731410.777\n",
      "Epoch 76: Loss = 5967112468.172\n",
      "Epoch 77: Loss = 5499290850.667\n",
      "Epoch 78: Loss = 5068146447.975\n",
      "Epoch 79: Loss = 4670803766.454\n",
      "Epoch 80: Loss = 4304612751.164\n",
      "Epoch 81: Loss = 3967131111.472\n",
      "Epoch 82: Loss = 3656108032.333\n",
      "Epoch 83: Loss = 3369469162.598\n",
      "Epoch 84: Loss = 3105302780.250\n",
      "Epoch 85: Loss = 2861847042.279\n",
      "Epoch 86: Loss = 2637478234.164\n",
      "Epoch 87: Loss = 2430699940.606\n",
      "Epoch 88: Loss = 2240133065.262\n",
      "Epoch 89: Loss = 2064506632.946\n",
      "Epoch 90: Loss = 1902649312.923\n",
      "Epoch 91: Loss = 1753481606.790\n",
      "Epoch 92: Loss = 1616008648.817\n",
      "Epoch 93: Loss = 1489313570.750\n",
      "Epoch 94: Loss = 1372551386.803\n",
      "Epoch 95: Loss = 1264943358.078\n",
      "Epoch 96: Loss = 1165771798.805\n",
      "Epoch 97: Loss = 1074375289.778\n",
      "Epoch 98: Loss = 990144267.060\n",
      "Epoch 99: Loss = 912516956.522\n",
      "Epoch 100: Loss = 840975627.131\n"
     ]
    }
   ],
   "source": [
    "w = np.zeros((X.shape[1]))\n",
    "\n",
    "# Gradient Descent settings\n",
    "lr = 0.04\n",
    "iterations = 100\n",
    "cost_history = []\n",
    "\n",
    "# Gradient Descent\n",
    "for epoch in range(iterations):\n",
    "    y_predicted = hypothesis(X, w)\n",
    "    loss = cost(X, y_predicted, y)\n",
    "    cost_history.append(loss)\n",
    "    gradient_val = gradient(X, y_predicted, y)\n",
    "    w = w - lr * gradient_val\n",
    "\n",
    "    print(f'Epoch {epoch+1}: Loss = {loss:.3f}')"
   ]
  },
  {
   "cell_type": "code",
   "execution_count": 151,
   "id": "1d174700",
   "metadata": {},
   "outputs": [
    {
     "data": {
      "image/png": "[encoded data removed]",
      "text/plain": [
       "<Figure size 640x480 with 1 Axes>"
      ]
     },
     "metadata": {},
     "output_type": "display_data"
    }
   ],
   "source": [
    "# Plot cost function\n",
    "plt.plot(cost_history, 'r-')\n",
    "plt.title(\"Decrease in Loss\")\n",
    "plt.xlabel(\"Number of iterations\")\n",
    "plt.ylabel(\"Loss\")\n",
    "plt.show()"
   ]
  }
 ],
 "metadata": {
  "kernelspec": {
   "display_name": "Python 3 (ipykernel)",
   "language": "python",
   "name": "python3"
  },
  "language_info": {
   "codemirror_mode": {
    "name": "ipython",
    "version": 3
   },
   "file_extension": ".py",
   "mimetype": "text/x-python",
   "name": "python",
   "nbconvert_exporter": "python",
   "pygments_lexer": "ipython3",
   "version": "3.11.5"
  }
 },
 "nbformat": 4,
 "nbformat_minor": 5
}
