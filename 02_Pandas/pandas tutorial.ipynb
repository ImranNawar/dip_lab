{
 "cells": [
  {
   "cell_type": "code",
   "execution_count": 1,
   "id": "be01fb42",
   "metadata": {},
   "outputs": [],
   "source": [
    "import numpy as np\n",
    "import pandas as pd"
   ]
  },
  {
   "cell_type": "code",
   "execution_count": 2,
   "id": "a2abcbb9",
   "metadata": {},
   "outputs": [],
   "source": [
    "dict1 = {\n",
    "    \"name\": ['imran', 'ali', 'ahmad', 'akram'],\n",
    "    \"marks\": [92, 54, 56, 75],\n",
    "    \"city\": ['swabi', 'peshawar', 'islamabad', 'sialkot']\n",
    "}"
   ]
  },
  {
   "cell_type": "code",
   "execution_count": 3,
   "id": "546b9a84",
   "metadata": {},
   "outputs": [],
   "source": [
    "df = pd.DataFrame(dict1)"
   ]
  },
  {
   "cell_type": "code",
   "execution_count": 6,
   "id": "b27a2d0e",
   "metadata": {
    "scrolled": false
   },
   "outputs": [
    {
     "data": {
      "text/html": [
       "<div>\n",
       "<style scoped>\n",
       "    .dataframe tbody tr th:only-of-type {\n",
       "        vertical-align: middle;\n",
       "    }\n",
       "\n",
       "    .dataframe tbody tr th {\n",
       "        vertical-align: top;\n",
       "    }\n",
       "\n",
       "    .dataframe thead th {\n",
       "        text-align: right;\n",
       "    }\n",
       "</style>\n",
       "<table border=\"1\" class=\"dataframe\">\n",
       "  <thead>\n",
       "    <tr style=\"text-align: right;\">\n",
       "      <th></th>\n",
       "      <th>name</th>\n",
       "      <th>marks</th>\n",
       "      <th>city</th>\n",
       "    </tr>\n",
       "  </thead>\n",
       "  <tbody>\n",
       "    <tr>\n",
       "      <th>0</th>\n",
       "      <td>imran</td>\n",
       "      <td>92</td>\n",
       "      <td>swabi</td>\n",
       "    </tr>\n",
       "    <tr>\n",
       "      <th>1</th>\n",
       "      <td>ali</td>\n",
       "      <td>54</td>\n",
       "      <td>peshawar</td>\n",
       "    </tr>\n",
       "    <tr>\n",
       "      <th>2</th>\n",
       "      <td>ahmad</td>\n",
       "      <td>56</td>\n",
       "      <td>islamabad</td>\n",
       "    </tr>\n",
       "    <tr>\n",
       "      <th>3</th>\n",
       "      <td>akram</td>\n",
       "      <td>75</td>\n",
       "      <td>sialkot</td>\n",
       "    </tr>\n",
       "  </tbody>\n",
       "</table>\n",
       "</div>"
      ],
      "text/plain": [
       "    name  marks       city\n",
       "0  imran     92      swabi\n",
       "1    ali     54   peshawar\n",
       "2  ahmad     56  islamabad\n",
       "3  akram     75    sialkot"
      ]
     },
     "execution_count": 6,
     "metadata": {},
     "output_type": "execute_result"
    }
   ],
   "source": [
    "df"
   ]
  },
  {
   "cell_type": "markdown",
   "id": "c2e493ad",
   "metadata": {},
   "source": [
    "## Read or write to external files"
   ]
  },
  {
   "cell_type": "code",
   "execution_count": 29,
   "id": "a23c4b18",
   "metadata": {},
   "outputs": [],
   "source": [
    "# To put in excel sheet\n",
    "df.to_csv('list1.csv')"
   ]
  },
  {
   "cell_type": "code",
   "execution_count": 30,
   "id": "d8542f35",
   "metadata": {},
   "outputs": [],
   "source": [
    "df.to_json('list2.json')"
   ]
  },
  {
   "cell_type": "code",
   "execution_count": 31,
   "id": "db21a7e2",
   "metadata": {},
   "outputs": [
    {
     "data": {
      "text/html": [
       "<div>\n",
       "<style scoped>\n",
       "    .dataframe tbody tr th:only-of-type {\n",
       "        vertical-align: middle;\n",
       "    }\n",
       "\n",
       "    .dataframe tbody tr th {\n",
       "        vertical-align: top;\n",
       "    }\n",
       "\n",
       "    .dataframe thead th {\n",
       "        text-align: right;\n",
       "    }\n",
       "</style>\n",
       "<table border=\"1\" class=\"dataframe\">\n",
       "  <thead>\n",
       "    <tr style=\"text-align: right;\">\n",
       "      <th></th>\n",
       "      <th>Unnamed: 0</th>\n",
       "      <th>name</th>\n",
       "      <th>marks</th>\n",
       "      <th>city</th>\n",
       "    </tr>\n",
       "  </thead>\n",
       "  <tbody>\n",
       "    <tr>\n",
       "      <th>0</th>\n",
       "      <td>0</td>\n",
       "      <td>imran</td>\n",
       "      <td>92</td>\n",
       "      <td>swabi</td>\n",
       "    </tr>\n",
       "    <tr>\n",
       "      <th>1</th>\n",
       "      <td>1</td>\n",
       "      <td>ali</td>\n",
       "      <td>54</td>\n",
       "      <td>peshawar</td>\n",
       "    </tr>\n",
       "    <tr>\n",
       "      <th>2</th>\n",
       "      <td>2</td>\n",
       "      <td>ahmad</td>\n",
       "      <td>56</td>\n",
       "      <td>islamabad</td>\n",
       "    </tr>\n",
       "    <tr>\n",
       "      <th>3</th>\n",
       "      <td>3</td>\n",
       "      <td>akram</td>\n",
       "      <td>75</td>\n",
       "      <td>sialkot</td>\n",
       "    </tr>\n",
       "  </tbody>\n",
       "</table>\n",
       "</div>"
      ],
      "text/plain": [
       "   Unnamed: 0   name  marks       city\n",
       "0           0  imran     92      swabi\n",
       "1           1    ali     54   peshawar\n",
       "2           2  ahmad     56  islamabad\n",
       "3           3  akram     75    sialkot"
      ]
     },
     "execution_count": 31,
     "metadata": {},
     "output_type": "execute_result"
    }
   ],
   "source": [
    "pd.read_csv('list1.csv')"
   ]
  },
  {
   "cell_type": "code",
   "execution_count": 32,
   "id": "6aaa3262",
   "metadata": {},
   "outputs": [
    {
     "data": {
      "text/html": [
       "<div>\n",
       "<style scoped>\n",
       "    .dataframe tbody tr th:only-of-type {\n",
       "        vertical-align: middle;\n",
       "    }\n",
       "\n",
       "    .dataframe tbody tr th {\n",
       "        vertical-align: top;\n",
       "    }\n",
       "\n",
       "    .dataframe thead th {\n",
       "        text-align: right;\n",
       "    }\n",
       "</style>\n",
       "<table border=\"1\" class=\"dataframe\">\n",
       "  <thead>\n",
       "    <tr style=\"text-align: right;\">\n",
       "      <th></th>\n",
       "      <th>name</th>\n",
       "      <th>marks</th>\n",
       "      <th>city</th>\n",
       "    </tr>\n",
       "  </thead>\n",
       "  <tbody>\n",
       "    <tr>\n",
       "      <th>0</th>\n",
       "      <td>imran</td>\n",
       "      <td>92</td>\n",
       "      <td>swabi</td>\n",
       "    </tr>\n",
       "    <tr>\n",
       "      <th>1</th>\n",
       "      <td>ali</td>\n",
       "      <td>54</td>\n",
       "      <td>peshawar</td>\n",
       "    </tr>\n",
       "    <tr>\n",
       "      <th>2</th>\n",
       "      <td>ahmad</td>\n",
       "      <td>56</td>\n",
       "      <td>islamabad</td>\n",
       "    </tr>\n",
       "    <tr>\n",
       "      <th>3</th>\n",
       "      <td>akram</td>\n",
       "      <td>75</td>\n",
       "      <td>sialkot</td>\n",
       "    </tr>\n",
       "  </tbody>\n",
       "</table>\n",
       "</div>"
      ],
      "text/plain": [
       "    name  marks       city\n",
       "0  imran     92      swabi\n",
       "1    ali     54   peshawar\n",
       "2  ahmad     56  islamabad\n",
       "3  akram     75    sialkot"
      ]
     },
     "execution_count": 32,
     "metadata": {},
     "output_type": "execute_result"
    }
   ],
   "source": [
    "pd.read_json('list2.json')"
   ]
  },
  {
   "cell_type": "code",
   "execution_count": 33,
   "id": "a54a2001",
   "metadata": {},
   "outputs": [],
   "source": [
    "# which without index\n",
    "df.to_csv('friend.csv', index=False)"
   ]
  },
  {
   "cell_type": "code",
   "execution_count": 7,
   "id": "2db0a1fc",
   "metadata": {},
   "outputs": [
    {
     "data": {
      "text/html": [
       "<div>\n",
       "<style scoped>\n",
       "    .dataframe tbody tr th:only-of-type {\n",
       "        vertical-align: middle;\n",
       "    }\n",
       "\n",
       "    .dataframe tbody tr th {\n",
       "        vertical-align: top;\n",
       "    }\n",
       "\n",
       "    .dataframe thead th {\n",
       "        text-align: right;\n",
       "    }\n",
       "</style>\n",
       "<table border=\"1\" class=\"dataframe\">\n",
       "  <thead>\n",
       "    <tr style=\"text-align: right;\">\n",
       "      <th></th>\n",
       "      <th>name</th>\n",
       "      <th>marks</th>\n",
       "      <th>city</th>\n",
       "    </tr>\n",
       "  </thead>\n",
       "  <tbody>\n",
       "    <tr>\n",
       "      <th>0</th>\n",
       "      <td>imran</td>\n",
       "      <td>92</td>\n",
       "      <td>swabi</td>\n",
       "    </tr>\n",
       "    <tr>\n",
       "      <th>1</th>\n",
       "      <td>ali</td>\n",
       "      <td>54</td>\n",
       "      <td>peshawar</td>\n",
       "    </tr>\n",
       "  </tbody>\n",
       "</table>\n",
       "</div>"
      ],
      "text/plain": [
       "    name  marks      city\n",
       "0  imran     92     swabi\n",
       "1    ali     54  peshawar"
      ]
     },
     "execution_count": 7,
     "metadata": {},
     "output_type": "execute_result"
    }
   ],
   "source": [
    "# if dataframe is very big,to see some first rows or last rows\n",
    "df.head(2)"
   ]
  },
  {
   "cell_type": "code",
   "execution_count": 18,
   "id": "4dece4dc",
   "metadata": {},
   "outputs": [
    {
     "data": {
      "text/html": [
       "<div>\n",
       "<style scoped>\n",
       "    .dataframe tbody tr th:only-of-type {\n",
       "        vertical-align: middle;\n",
       "    }\n",
       "\n",
       "    .dataframe tbody tr th {\n",
       "        vertical-align: top;\n",
       "    }\n",
       "\n",
       "    .dataframe thead th {\n",
       "        text-align: right;\n",
       "    }\n",
       "</style>\n",
       "<table border=\"1\" class=\"dataframe\">\n",
       "  <thead>\n",
       "    <tr style=\"text-align: right;\">\n",
       "      <th></th>\n",
       "      <th>name</th>\n",
       "      <th>marks</th>\n",
       "      <th>city</th>\n",
       "    </tr>\n",
       "  </thead>\n",
       "  <tbody>\n",
       "    <tr>\n",
       "      <th>2</th>\n",
       "      <td>ahmad</td>\n",
       "      <td>56</td>\n",
       "      <td>islamabad</td>\n",
       "    </tr>\n",
       "    <tr>\n",
       "      <th>3</th>\n",
       "      <td>akram</td>\n",
       "      <td>75</td>\n",
       "      <td>sialkot</td>\n",
       "    </tr>\n",
       "  </tbody>\n",
       "</table>\n",
       "</div>"
      ],
      "text/plain": [
       "    name  marks       city\n",
       "2  ahmad     56  islamabad\n",
       "3  akram     75    sialkot"
      ]
     },
     "execution_count": 18,
     "metadata": {},
     "output_type": "execute_result"
    }
   ],
   "source": [
    "df.tail(2)"
   ]
  },
  {
   "cell_type": "code",
   "execution_count": 8,
   "id": "0920ce24",
   "metadata": {},
   "outputs": [
    {
     "data": {
      "text/html": [
       "<div>\n",
       "<style scoped>\n",
       "    .dataframe tbody tr th:only-of-type {\n",
       "        vertical-align: middle;\n",
       "    }\n",
       "\n",
       "    .dataframe tbody tr th {\n",
       "        vertical-align: top;\n",
       "    }\n",
       "\n",
       "    .dataframe thead th {\n",
       "        text-align: right;\n",
       "    }\n",
       "</style>\n",
       "<table border=\"1\" class=\"dataframe\">\n",
       "  <thead>\n",
       "    <tr style=\"text-align: right;\">\n",
       "      <th></th>\n",
       "      <th>marks</th>\n",
       "    </tr>\n",
       "  </thead>\n",
       "  <tbody>\n",
       "    <tr>\n",
       "      <th>count</th>\n",
       "      <td>4.000000</td>\n",
       "    </tr>\n",
       "    <tr>\n",
       "      <th>mean</th>\n",
       "      <td>69.250000</td>\n",
       "    </tr>\n",
       "    <tr>\n",
       "      <th>std</th>\n",
       "      <td>17.876894</td>\n",
       "    </tr>\n",
       "    <tr>\n",
       "      <th>min</th>\n",
       "      <td>54.000000</td>\n",
       "    </tr>\n",
       "    <tr>\n",
       "      <th>25%</th>\n",
       "      <td>55.500000</td>\n",
       "    </tr>\n",
       "    <tr>\n",
       "      <th>50%</th>\n",
       "      <td>65.500000</td>\n",
       "    </tr>\n",
       "    <tr>\n",
       "      <th>75%</th>\n",
       "      <td>79.250000</td>\n",
       "    </tr>\n",
       "    <tr>\n",
       "      <th>max</th>\n",
       "      <td>92.000000</td>\n",
       "    </tr>\n",
       "  </tbody>\n",
       "</table>\n",
       "</div>"
      ],
      "text/plain": [
       "           marks\n",
       "count   4.000000\n",
       "mean   69.250000\n",
       "std    17.876894\n",
       "min    54.000000\n",
       "25%    55.500000\n",
       "50%    65.500000\n",
       "75%    79.250000\n",
       "max    92.000000"
      ]
     },
     "execution_count": 8,
     "metadata": {},
     "output_type": "execute_result"
    }
   ],
   "source": [
    "df.describe()"
   ]
  },
  {
   "cell_type": "code",
   "execution_count": 20,
   "id": "7d2d9d3e",
   "metadata": {},
   "outputs": [],
   "source": [
    "# Read cvs\n",
    "friends = pd.read_csv('friend.csv')"
   ]
  },
  {
   "cell_type": "code",
   "execution_count": 21,
   "id": "e8d930e7",
   "metadata": {},
   "outputs": [
    {
     "data": {
      "text/html": [
       "<div>\n",
       "<style scoped>\n",
       "    .dataframe tbody tr th:only-of-type {\n",
       "        vertical-align: middle;\n",
       "    }\n",
       "\n",
       "    .dataframe tbody tr th {\n",
       "        vertical-align: top;\n",
       "    }\n",
       "\n",
       "    .dataframe thead th {\n",
       "        text-align: right;\n",
       "    }\n",
       "</style>\n",
       "<table border=\"1\" class=\"dataframe\">\n",
       "  <thead>\n",
       "    <tr style=\"text-align: right;\">\n",
       "      <th></th>\n",
       "      <th>name</th>\n",
       "      <th>marks</th>\n",
       "      <th>city</th>\n",
       "    </tr>\n",
       "  </thead>\n",
       "  <tbody>\n",
       "    <tr>\n",
       "      <th>0</th>\n",
       "      <td>imran</td>\n",
       "      <td>92</td>\n",
       "      <td>swabi</td>\n",
       "    </tr>\n",
       "    <tr>\n",
       "      <th>1</th>\n",
       "      <td>ali</td>\n",
       "      <td>54</td>\n",
       "      <td>peshawar</td>\n",
       "    </tr>\n",
       "    <tr>\n",
       "      <th>2</th>\n",
       "      <td>ahmad</td>\n",
       "      <td>56</td>\n",
       "      <td>islamabad</td>\n",
       "    </tr>\n",
       "    <tr>\n",
       "      <th>3</th>\n",
       "      <td>akram</td>\n",
       "      <td>75</td>\n",
       "      <td>sialkot</td>\n",
       "    </tr>\n",
       "  </tbody>\n",
       "</table>\n",
       "</div>"
      ],
      "text/plain": [
       "    name  marks       city\n",
       "0  imran     92      swabi\n",
       "1    ali     54   peshawar\n",
       "2  ahmad     56  islamabad\n",
       "3  akram     75    sialkot"
      ]
     },
     "execution_count": 21,
     "metadata": {},
     "output_type": "execute_result"
    }
   ],
   "source": [
    "friends"
   ]
  },
  {
   "cell_type": "code",
   "execution_count": null,
   "id": "224163b7",
   "metadata": {},
   "outputs": [],
   "source": []
  },
  {
   "cell_type": "markdown",
   "id": "5bd2f44d",
   "metadata": {},
   "source": [
    "## Series"
   ]
  },
  {
   "cell_type": "code",
   "execution_count": 9,
   "id": "2f42f479",
   "metadata": {},
   "outputs": [],
   "source": [
    "ser = pd.Series(np.random.rand(10))"
   ]
  },
  {
   "cell_type": "code",
   "execution_count": 12,
   "id": "9d20c56c",
   "metadata": {},
   "outputs": [
    {
     "data": {
      "text/plain": [
       "0    0.015311\n",
       "1    0.761080\n",
       "2    0.405675\n",
       "3    0.556406\n",
       "4    0.302659\n",
       "5    0.626105\n",
       "6    0.841760\n",
       "7    0.811926\n",
       "8    0.735968\n",
       "9    0.795264\n",
       "dtype: float64"
      ]
     },
     "execution_count": 12,
     "metadata": {},
     "output_type": "execute_result"
    }
   ],
   "source": [
    "ser"
   ]
  },
  {
   "cell_type": "code",
   "execution_count": 13,
   "id": "b7e2dec4",
   "metadata": {},
   "outputs": [
    {
     "data": {
      "text/plain": [
       "pandas.core.series.Series"
      ]
     },
     "execution_count": 13,
     "metadata": {},
     "output_type": "execute_result"
    }
   ],
   "source": [
    "type(ser)"
   ]
  },
  {
   "cell_type": "markdown",
   "id": "ca8b12e6",
   "metadata": {},
   "source": [
    "## Dataframes"
   ]
  },
  {
   "cell_type": "code",
   "execution_count": 14,
   "id": "dc7507a3",
   "metadata": {},
   "outputs": [],
   "source": [
    "newdf = pd.DataFrame(np.random.rand(334,5), index=np.arange(334))"
   ]
  },
  {
   "cell_type": "code",
   "execution_count": 15,
   "id": "d19958be",
   "metadata": {},
   "outputs": [
    {
     "data": {
      "text/html": [
       "<div>\n",
       "<style scoped>\n",
       "    .dataframe tbody tr th:only-of-type {\n",
       "        vertical-align: middle;\n",
       "    }\n",
       "\n",
       "    .dataframe tbody tr th {\n",
       "        vertical-align: top;\n",
       "    }\n",
       "\n",
       "    .dataframe thead th {\n",
       "        text-align: right;\n",
       "    }\n",
       "</style>\n",
       "<table border=\"1\" class=\"dataframe\">\n",
       "  <thead>\n",
       "    <tr style=\"text-align: right;\">\n",
       "      <th></th>\n",
       "      <th>0</th>\n",
       "      <th>1</th>\n",
       "      <th>2</th>\n",
       "      <th>3</th>\n",
       "      <th>4</th>\n",
       "    </tr>\n",
       "  </thead>\n",
       "  <tbody>\n",
       "    <tr>\n",
       "      <th>0</th>\n",
       "      <td>0.194631</td>\n",
       "      <td>0.173185</td>\n",
       "      <td>0.253506</td>\n",
       "      <td>0.445706</td>\n",
       "      <td>0.838651</td>\n",
       "    </tr>\n",
       "    <tr>\n",
       "      <th>1</th>\n",
       "      <td>0.897244</td>\n",
       "      <td>0.913982</td>\n",
       "      <td>0.071507</td>\n",
       "      <td>0.553565</td>\n",
       "      <td>0.215975</td>\n",
       "    </tr>\n",
       "    <tr>\n",
       "      <th>2</th>\n",
       "      <td>0.492833</td>\n",
       "      <td>0.503727</td>\n",
       "      <td>0.379485</td>\n",
       "      <td>0.603895</td>\n",
       "      <td>0.372360</td>\n",
       "    </tr>\n",
       "    <tr>\n",
       "      <th>3</th>\n",
       "      <td>0.864099</td>\n",
       "      <td>0.576215</td>\n",
       "      <td>0.408168</td>\n",
       "      <td>0.962408</td>\n",
       "      <td>0.794521</td>\n",
       "    </tr>\n",
       "    <tr>\n",
       "      <th>4</th>\n",
       "      <td>0.595129</td>\n",
       "      <td>0.698329</td>\n",
       "      <td>0.842381</td>\n",
       "      <td>0.917981</td>\n",
       "      <td>0.096613</td>\n",
       "    </tr>\n",
       "    <tr>\n",
       "      <th>...</th>\n",
       "      <td>...</td>\n",
       "      <td>...</td>\n",
       "      <td>...</td>\n",
       "      <td>...</td>\n",
       "      <td>...</td>\n",
       "    </tr>\n",
       "    <tr>\n",
       "      <th>329</th>\n",
       "      <td>0.604529</td>\n",
       "      <td>0.827517</td>\n",
       "      <td>0.240447</td>\n",
       "      <td>0.312540</td>\n",
       "      <td>0.611120</td>\n",
       "    </tr>\n",
       "    <tr>\n",
       "      <th>330</th>\n",
       "      <td>0.850126</td>\n",
       "      <td>0.503696</td>\n",
       "      <td>0.663271</td>\n",
       "      <td>0.220942</td>\n",
       "      <td>0.681116</td>\n",
       "    </tr>\n",
       "    <tr>\n",
       "      <th>331</th>\n",
       "      <td>0.537953</td>\n",
       "      <td>0.969158</td>\n",
       "      <td>0.437275</td>\n",
       "      <td>0.556176</td>\n",
       "      <td>0.706750</td>\n",
       "    </tr>\n",
       "    <tr>\n",
       "      <th>332</th>\n",
       "      <td>0.683508</td>\n",
       "      <td>0.382061</td>\n",
       "      <td>0.263535</td>\n",
       "      <td>0.487740</td>\n",
       "      <td>0.248577</td>\n",
       "    </tr>\n",
       "    <tr>\n",
       "      <th>333</th>\n",
       "      <td>0.589409</td>\n",
       "      <td>0.981801</td>\n",
       "      <td>0.606469</td>\n",
       "      <td>0.303081</td>\n",
       "      <td>0.126072</td>\n",
       "    </tr>\n",
       "  </tbody>\n",
       "</table>\n",
       "<p>334 rows × 5 columns</p>\n",
       "</div>"
      ],
      "text/plain": [
       "            0         1         2         3         4\n",
       "0    0.194631  0.173185  0.253506  0.445706  0.838651\n",
       "1    0.897244  0.913982  0.071507  0.553565  0.215975\n",
       "2    0.492833  0.503727  0.379485  0.603895  0.372360\n",
       "3    0.864099  0.576215  0.408168  0.962408  0.794521\n",
       "4    0.595129  0.698329  0.842381  0.917981  0.096613\n",
       "..        ...       ...       ...       ...       ...\n",
       "329  0.604529  0.827517  0.240447  0.312540  0.611120\n",
       "330  0.850126  0.503696  0.663271  0.220942  0.681116\n",
       "331  0.537953  0.969158  0.437275  0.556176  0.706750\n",
       "332  0.683508  0.382061  0.263535  0.487740  0.248577\n",
       "333  0.589409  0.981801  0.606469  0.303081  0.126072\n",
       "\n",
       "[334 rows x 5 columns]"
      ]
     },
     "execution_count": 15,
     "metadata": {},
     "output_type": "execute_result"
    }
   ],
   "source": [
    "newdf"
   ]
  },
  {
   "cell_type": "code",
   "execution_count": 16,
   "id": "50225053",
   "metadata": {},
   "outputs": [
    {
     "data": {
      "text/plain": [
       "pandas.core.frame.DataFrame"
      ]
     },
     "execution_count": 16,
     "metadata": {},
     "output_type": "execute_result"
    }
   ],
   "source": [
    "type(newdf)"
   ]
  },
  {
   "cell_type": "code",
   "execution_count": 17,
   "id": "ef6a7e3e",
   "metadata": {},
   "outputs": [
    {
     "data": {
      "text/html": [
       "<div>\n",
       "<style scoped>\n",
       "    .dataframe tbody tr th:only-of-type {\n",
       "        vertical-align: middle;\n",
       "    }\n",
       "\n",
       "    .dataframe tbody tr th {\n",
       "        vertical-align: top;\n",
       "    }\n",
       "\n",
       "    .dataframe thead th {\n",
       "        text-align: right;\n",
       "    }\n",
       "</style>\n",
       "<table border=\"1\" class=\"dataframe\">\n",
       "  <thead>\n",
       "    <tr style=\"text-align: right;\">\n",
       "      <th></th>\n",
       "      <th>0</th>\n",
       "      <th>1</th>\n",
       "      <th>2</th>\n",
       "      <th>3</th>\n",
       "      <th>4</th>\n",
       "    </tr>\n",
       "  </thead>\n",
       "  <tbody>\n",
       "    <tr>\n",
       "      <th>count</th>\n",
       "      <td>334.000000</td>\n",
       "      <td>334.000000</td>\n",
       "      <td>334.000000</td>\n",
       "      <td>334.000000</td>\n",
       "      <td>334.000000</td>\n",
       "    </tr>\n",
       "    <tr>\n",
       "      <th>mean</th>\n",
       "      <td>0.484341</td>\n",
       "      <td>0.492770</td>\n",
       "      <td>0.468830</td>\n",
       "      <td>0.522171</td>\n",
       "      <td>0.491538</td>\n",
       "    </tr>\n",
       "    <tr>\n",
       "      <th>std</th>\n",
       "      <td>0.280913</td>\n",
       "      <td>0.289369</td>\n",
       "      <td>0.278079</td>\n",
       "      <td>0.278883</td>\n",
       "      <td>0.296110</td>\n",
       "    </tr>\n",
       "    <tr>\n",
       "      <th>min</th>\n",
       "      <td>0.000300</td>\n",
       "      <td>0.001263</td>\n",
       "      <td>0.002256</td>\n",
       "      <td>0.005480</td>\n",
       "      <td>0.002480</td>\n",
       "    </tr>\n",
       "    <tr>\n",
       "      <th>25%</th>\n",
       "      <td>0.235265</td>\n",
       "      <td>0.237169</td>\n",
       "      <td>0.232353</td>\n",
       "      <td>0.301791</td>\n",
       "      <td>0.210169</td>\n",
       "    </tr>\n",
       "    <tr>\n",
       "      <th>50%</th>\n",
       "      <td>0.471335</td>\n",
       "      <td>0.500532</td>\n",
       "      <td>0.444085</td>\n",
       "      <td>0.514211</td>\n",
       "      <td>0.505731</td>\n",
       "    </tr>\n",
       "    <tr>\n",
       "      <th>75%</th>\n",
       "      <td>0.701222</td>\n",
       "      <td>0.752281</td>\n",
       "      <td>0.686633</td>\n",
       "      <td>0.764621</td>\n",
       "      <td>0.743844</td>\n",
       "    </tr>\n",
       "    <tr>\n",
       "      <th>max</th>\n",
       "      <td>0.999936</td>\n",
       "      <td>0.996240</td>\n",
       "      <td>0.998460</td>\n",
       "      <td>0.999103</td>\n",
       "      <td>0.997162</td>\n",
       "    </tr>\n",
       "  </tbody>\n",
       "</table>\n",
       "</div>"
      ],
      "text/plain": [
       "                0           1           2           3           4\n",
       "count  334.000000  334.000000  334.000000  334.000000  334.000000\n",
       "mean     0.484341    0.492770    0.468830    0.522171    0.491538\n",
       "std      0.280913    0.289369    0.278079    0.278883    0.296110\n",
       "min      0.000300    0.001263    0.002256    0.005480    0.002480\n",
       "25%      0.235265    0.237169    0.232353    0.301791    0.210169\n",
       "50%      0.471335    0.500532    0.444085    0.514211    0.505731\n",
       "75%      0.701222    0.752281    0.686633    0.764621    0.743844\n",
       "max      0.999936    0.996240    0.998460    0.999103    0.997162"
      ]
     },
     "execution_count": 17,
     "metadata": {},
     "output_type": "execute_result"
    }
   ],
   "source": [
    "newdf.describe()"
   ]
  },
  {
   "cell_type": "code",
   "execution_count": 18,
   "id": "f297de89",
   "metadata": {},
   "outputs": [
    {
     "data": {
      "text/plain": [
       "0    float64\n",
       "1    float64\n",
       "2    float64\n",
       "3    float64\n",
       "4    float64\n",
       "dtype: object"
      ]
     },
     "execution_count": 18,
     "metadata": {},
     "output_type": "execute_result"
    }
   ],
   "source": [
    "newdf.dtypes"
   ]
  },
  {
   "cell_type": "code",
   "execution_count": 19,
   "id": "6556d648",
   "metadata": {},
   "outputs": [
    {
     "name": "stderr",
     "output_type": "stream",
     "text": [
      "C:\\Users\\PC\\AppData\\Local\\Temp\\ipykernel_5300\\2601335246.py:2: FutureWarning: Setting an item of incompatible dtype is deprecated and will raise in a future error of pandas. Value 'imran' has dtype incompatible with float64, please explicitly cast to a compatible dtype first.\n",
      "  newdf[0][0] = \"imran\"\n"
     ]
    }
   ],
   "source": [
    "# change data in a cell\n",
    "newdf[0][0] = \"imran\""
   ]
  },
  {
   "cell_type": "code",
   "execution_count": 20,
   "id": "1d5476c5",
   "metadata": {},
   "outputs": [
    {
     "data": {
      "text/html": [
       "<div>\n",
       "<style scoped>\n",
       "    .dataframe tbody tr th:only-of-type {\n",
       "        vertical-align: middle;\n",
       "    }\n",
       "\n",
       "    .dataframe tbody tr th {\n",
       "        vertical-align: top;\n",
       "    }\n",
       "\n",
       "    .dataframe thead th {\n",
       "        text-align: right;\n",
       "    }\n",
       "</style>\n",
       "<table border=\"1\" class=\"dataframe\">\n",
       "  <thead>\n",
       "    <tr style=\"text-align: right;\">\n",
       "      <th></th>\n",
       "      <th>0</th>\n",
       "      <th>1</th>\n",
       "      <th>2</th>\n",
       "      <th>3</th>\n",
       "      <th>4</th>\n",
       "    </tr>\n",
       "  </thead>\n",
       "  <tbody>\n",
       "    <tr>\n",
       "      <th>0</th>\n",
       "      <td>imran</td>\n",
       "      <td>0.173185</td>\n",
       "      <td>0.253506</td>\n",
       "      <td>0.445706</td>\n",
       "      <td>0.838651</td>\n",
       "    </tr>\n",
       "    <tr>\n",
       "      <th>1</th>\n",
       "      <td>0.897244</td>\n",
       "      <td>0.913982</td>\n",
       "      <td>0.071507</td>\n",
       "      <td>0.553565</td>\n",
       "      <td>0.215975</td>\n",
       "    </tr>\n",
       "  </tbody>\n",
       "</table>\n",
       "</div>"
      ],
      "text/plain": [
       "          0         1         2         3         4\n",
       "0     imran  0.173185  0.253506  0.445706  0.838651\n",
       "1  0.897244  0.913982  0.071507  0.553565  0.215975"
      ]
     },
     "execution_count": 20,
     "metadata": {},
     "output_type": "execute_result"
    }
   ],
   "source": [
    "newdf.head(2)"
   ]
  },
  {
   "cell_type": "code",
   "execution_count": 21,
   "id": "e96c030b",
   "metadata": {},
   "outputs": [
    {
     "data": {
      "text/plain": [
       "0     object\n",
       "1    float64\n",
       "2    float64\n",
       "3    float64\n",
       "4    float64\n",
       "dtype: object"
      ]
     },
     "execution_count": 21,
     "metadata": {},
     "output_type": "execute_result"
    }
   ],
   "source": [
    "newdf.dtypes"
   ]
  },
  {
   "cell_type": "code",
   "execution_count": 22,
   "id": "e10e683a",
   "metadata": {},
   "outputs": [
    {
     "data": {
      "text/plain": [
       "array([['imran', 0.17318474693321717, 0.25350633065478545,\n",
       "        0.44570593950099213, 0.8386512596224928],\n",
       "       [0.897244056072484, 0.9139816674748478, 0.07150738172746052,\n",
       "        0.5535648487750221, 0.21597530665106357],\n",
       "       [0.4928327672666837, 0.5037270724587292, 0.3794850847828184,\n",
       "        0.603895408738938, 0.37235951938692113],\n",
       "       ...,\n",
       "       [0.5379529366611049, 0.969157535894877, 0.4372745748943617,\n",
       "        0.5561755048382016, 0.7067500777913213],\n",
       "       [0.6835077106169061, 0.38206078684712175, 0.26353463319210846,\n",
       "        0.4877395872724597, 0.2485768903868517],\n",
       "       [0.5894092092669384, 0.9818005540935916, 0.6064687590178851,\n",
       "        0.3030812382839998, 0.12607151681777473]], dtype=object)"
      ]
     },
     "execution_count": 22,
     "metadata": {},
     "output_type": "execute_result"
    }
   ],
   "source": [
    "newdf.to_numpy()"
   ]
  },
  {
   "cell_type": "code",
   "execution_count": 44,
   "id": "9e009636",
   "metadata": {
    "scrolled": false
   },
   "outputs": [
    {
     "data": {
      "text/html": [
       "<div>\n",
       "<style scoped>\n",
       "    .dataframe tbody tr th:only-of-type {\n",
       "        vertical-align: middle;\n",
       "    }\n",
       "\n",
       "    .dataframe tbody tr th {\n",
       "        vertical-align: top;\n",
       "    }\n",
       "\n",
       "    .dataframe thead th {\n",
       "        text-align: right;\n",
       "    }\n",
       "</style>\n",
       "<table border=\"1\" class=\"dataframe\">\n",
       "  <thead>\n",
       "    <tr style=\"text-align: right;\">\n",
       "      <th></th>\n",
       "      <th>0</th>\n",
       "      <th>1</th>\n",
       "      <th>2</th>\n",
       "      <th>3</th>\n",
       "      <th>4</th>\n",
       "      <th>5</th>\n",
       "      <th>6</th>\n",
       "      <th>7</th>\n",
       "      <th>8</th>\n",
       "      <th>9</th>\n",
       "      <th>...</th>\n",
       "      <th>324</th>\n",
       "      <th>325</th>\n",
       "      <th>326</th>\n",
       "      <th>327</th>\n",
       "      <th>328</th>\n",
       "      <th>329</th>\n",
       "      <th>330</th>\n",
       "      <th>331</th>\n",
       "      <th>332</th>\n",
       "      <th>333</th>\n",
       "    </tr>\n",
       "  </thead>\n",
       "  <tbody>\n",
       "    <tr>\n",
       "      <th>0</th>\n",
       "      <td>imran</td>\n",
       "      <td>0.033486</td>\n",
       "      <td>0.381868</td>\n",
       "      <td>0.010762</td>\n",
       "      <td>0.060316</td>\n",
       "      <td>0.084896</td>\n",
       "      <td>0.890253</td>\n",
       "      <td>0.767231</td>\n",
       "      <td>0.583252</td>\n",
       "      <td>0.63853</td>\n",
       "      <td>...</td>\n",
       "      <td>0.955537</td>\n",
       "      <td>0.58347</td>\n",
       "      <td>0.938892</td>\n",
       "      <td>0.760929</td>\n",
       "      <td>0.567304</td>\n",
       "      <td>0.136621</td>\n",
       "      <td>0.674854</td>\n",
       "      <td>0.543409</td>\n",
       "      <td>0.261113</td>\n",
       "      <td>0.19152</td>\n",
       "    </tr>\n",
       "    <tr>\n",
       "      <th>1</th>\n",
       "      <td>0.96823</td>\n",
       "      <td>0.414209</td>\n",
       "      <td>0.05247</td>\n",
       "      <td>0.346614</td>\n",
       "      <td>0.117865</td>\n",
       "      <td>0.545345</td>\n",
       "      <td>0.612895</td>\n",
       "      <td>0.673548</td>\n",
       "      <td>0.920465</td>\n",
       "      <td>0.180145</td>\n",
       "      <td>...</td>\n",
       "      <td>0.818945</td>\n",
       "      <td>0.719187</td>\n",
       "      <td>0.727494</td>\n",
       "      <td>0.436278</td>\n",
       "      <td>0.107453</td>\n",
       "      <td>0.635423</td>\n",
       "      <td>0.498759</td>\n",
       "      <td>0.236225</td>\n",
       "      <td>0.670622</td>\n",
       "      <td>0.100586</td>\n",
       "    </tr>\n",
       "    <tr>\n",
       "      <th>2</th>\n",
       "      <td>0.428492</td>\n",
       "      <td>0.961543</td>\n",
       "      <td>0.868436</td>\n",
       "      <td>0.173182</td>\n",
       "      <td>0.506711</td>\n",
       "      <td>0.316032</td>\n",
       "      <td>0.221999</td>\n",
       "      <td>0.392511</td>\n",
       "      <td>0.465598</td>\n",
       "      <td>0.160522</td>\n",
       "      <td>...</td>\n",
       "      <td>0.484969</td>\n",
       "      <td>0.29026</td>\n",
       "      <td>0.022922</td>\n",
       "      <td>0.607466</td>\n",
       "      <td>0.304058</td>\n",
       "      <td>0.126561</td>\n",
       "      <td>0.59004</td>\n",
       "      <td>0.8379</td>\n",
       "      <td>0.848614</td>\n",
       "      <td>0.912902</td>\n",
       "    </tr>\n",
       "    <tr>\n",
       "      <th>3</th>\n",
       "      <td>0.254799</td>\n",
       "      <td>0.378168</td>\n",
       "      <td>0.415003</td>\n",
       "      <td>0.193108</td>\n",
       "      <td>0.944531</td>\n",
       "      <td>0.343798</td>\n",
       "      <td>0.224355</td>\n",
       "      <td>0.65036</td>\n",
       "      <td>0.286169</td>\n",
       "      <td>0.094803</td>\n",
       "      <td>...</td>\n",
       "      <td>0.648178</td>\n",
       "      <td>0.512679</td>\n",
       "      <td>0.400351</td>\n",
       "      <td>0.17802</td>\n",
       "      <td>0.785179</td>\n",
       "      <td>0.975457</td>\n",
       "      <td>0.452137</td>\n",
       "      <td>0.75287</td>\n",
       "      <td>0.161915</td>\n",
       "      <td>0.47765</td>\n",
       "    </tr>\n",
       "    <tr>\n",
       "      <th>4</th>\n",
       "      <td>0.742577</td>\n",
       "      <td>0.199287</td>\n",
       "      <td>0.646704</td>\n",
       "      <td>0.493332</td>\n",
       "      <td>0.573925</td>\n",
       "      <td>0.892132</td>\n",
       "      <td>0.539644</td>\n",
       "      <td>0.556995</td>\n",
       "      <td>0.192647</td>\n",
       "      <td>0.526025</td>\n",
       "      <td>...</td>\n",
       "      <td>0.915768</td>\n",
       "      <td>0.528738</td>\n",
       "      <td>0.783859</td>\n",
       "      <td>0.642321</td>\n",
       "      <td>0.828174</td>\n",
       "      <td>0.051883</td>\n",
       "      <td>0.187723</td>\n",
       "      <td>0.192815</td>\n",
       "      <td>0.902897</td>\n",
       "      <td>0.806222</td>\n",
       "    </tr>\n",
       "  </tbody>\n",
       "</table>\n",
       "<p>5 rows × 334 columns</p>\n",
       "</div>"
      ],
      "text/plain": [
       "        0         1         2         3         4         5         6    \\\n",
       "0     imran  0.033486  0.381868  0.010762  0.060316  0.084896  0.890253   \n",
       "1   0.96823  0.414209   0.05247  0.346614  0.117865  0.545345  0.612895   \n",
       "2  0.428492  0.961543  0.868436  0.173182  0.506711  0.316032  0.221999   \n",
       "3  0.254799  0.378168  0.415003  0.193108  0.944531  0.343798  0.224355   \n",
       "4  0.742577  0.199287  0.646704  0.493332  0.573925  0.892132  0.539644   \n",
       "\n",
       "        7         8         9    ...       324       325       326       327  \\\n",
       "0  0.767231  0.583252   0.63853  ...  0.955537   0.58347  0.938892  0.760929   \n",
       "1  0.673548  0.920465  0.180145  ...  0.818945  0.719187  0.727494  0.436278   \n",
       "2  0.392511  0.465598  0.160522  ...  0.484969   0.29026  0.022922  0.607466   \n",
       "3   0.65036  0.286169  0.094803  ...  0.648178  0.512679  0.400351   0.17802   \n",
       "4  0.556995  0.192647  0.526025  ...  0.915768  0.528738  0.783859  0.642321   \n",
       "\n",
       "        328       329       330       331       332       333  \n",
       "0  0.567304  0.136621  0.674854  0.543409  0.261113   0.19152  \n",
       "1  0.107453  0.635423  0.498759  0.236225  0.670622  0.100586  \n",
       "2  0.304058  0.126561   0.59004    0.8379  0.848614  0.912902  \n",
       "3  0.785179  0.975457  0.452137   0.75287  0.161915   0.47765  \n",
       "4  0.828174  0.051883  0.187723  0.192815  0.902897  0.806222  \n",
       "\n",
       "[5 rows x 334 columns]"
      ]
     },
     "execution_count": 44,
     "metadata": {},
     "output_type": "execute_result"
    }
   ],
   "source": [
    "# transpose\n",
    "newdf.T"
   ]
  },
  {
   "cell_type": "code",
   "execution_count": 45,
   "id": "a3d94556",
   "metadata": {},
   "outputs": [
    {
     "data": {
      "text/html": [
       "<div>\n",
       "<style scoped>\n",
       "    .dataframe tbody tr th:only-of-type {\n",
       "        vertical-align: middle;\n",
       "    }\n",
       "\n",
       "    .dataframe tbody tr th {\n",
       "        vertical-align: top;\n",
       "    }\n",
       "\n",
       "    .dataframe thead th {\n",
       "        text-align: right;\n",
       "    }\n",
       "</style>\n",
       "<table border=\"1\" class=\"dataframe\">\n",
       "  <thead>\n",
       "    <tr style=\"text-align: right;\">\n",
       "      <th></th>\n",
       "      <th>0</th>\n",
       "      <th>1</th>\n",
       "      <th>2</th>\n",
       "      <th>3</th>\n",
       "      <th>4</th>\n",
       "    </tr>\n",
       "  </thead>\n",
       "  <tbody>\n",
       "    <tr>\n",
       "      <th>333</th>\n",
       "      <td>0.19152</td>\n",
       "      <td>0.100586</td>\n",
       "      <td>0.912902</td>\n",
       "      <td>0.477650</td>\n",
       "      <td>0.806222</td>\n",
       "    </tr>\n",
       "    <tr>\n",
       "      <th>332</th>\n",
       "      <td>0.261113</td>\n",
       "      <td>0.670622</td>\n",
       "      <td>0.848614</td>\n",
       "      <td>0.161915</td>\n",
       "      <td>0.902897</td>\n",
       "    </tr>\n",
       "    <tr>\n",
       "      <th>331</th>\n",
       "      <td>0.543409</td>\n",
       "      <td>0.236225</td>\n",
       "      <td>0.837900</td>\n",
       "      <td>0.752870</td>\n",
       "      <td>0.192815</td>\n",
       "    </tr>\n",
       "    <tr>\n",
       "      <th>330</th>\n",
       "      <td>0.674854</td>\n",
       "      <td>0.498759</td>\n",
       "      <td>0.590040</td>\n",
       "      <td>0.452137</td>\n",
       "      <td>0.187723</td>\n",
       "    </tr>\n",
       "    <tr>\n",
       "      <th>329</th>\n",
       "      <td>0.136621</td>\n",
       "      <td>0.635423</td>\n",
       "      <td>0.126561</td>\n",
       "      <td>0.975457</td>\n",
       "      <td>0.051883</td>\n",
       "    </tr>\n",
       "    <tr>\n",
       "      <th>...</th>\n",
       "      <td>...</td>\n",
       "      <td>...</td>\n",
       "      <td>...</td>\n",
       "      <td>...</td>\n",
       "      <td>...</td>\n",
       "    </tr>\n",
       "    <tr>\n",
       "      <th>4</th>\n",
       "      <td>0.060316</td>\n",
       "      <td>0.117865</td>\n",
       "      <td>0.506711</td>\n",
       "      <td>0.944531</td>\n",
       "      <td>0.573925</td>\n",
       "    </tr>\n",
       "    <tr>\n",
       "      <th>3</th>\n",
       "      <td>0.010762</td>\n",
       "      <td>0.346614</td>\n",
       "      <td>0.173182</td>\n",
       "      <td>0.193108</td>\n",
       "      <td>0.493332</td>\n",
       "    </tr>\n",
       "    <tr>\n",
       "      <th>2</th>\n",
       "      <td>0.381868</td>\n",
       "      <td>0.052470</td>\n",
       "      <td>0.868436</td>\n",
       "      <td>0.415003</td>\n",
       "      <td>0.646704</td>\n",
       "    </tr>\n",
       "    <tr>\n",
       "      <th>1</th>\n",
       "      <td>0.033486</td>\n",
       "      <td>0.414209</td>\n",
       "      <td>0.961543</td>\n",
       "      <td>0.378168</td>\n",
       "      <td>0.199287</td>\n",
       "    </tr>\n",
       "    <tr>\n",
       "      <th>0</th>\n",
       "      <td>imran</td>\n",
       "      <td>0.968230</td>\n",
       "      <td>0.428492</td>\n",
       "      <td>0.254799</td>\n",
       "      <td>0.742577</td>\n",
       "    </tr>\n",
       "  </tbody>\n",
       "</table>\n",
       "<p>334 rows × 5 columns</p>\n",
       "</div>"
      ],
      "text/plain": [
       "            0         1         2         3         4\n",
       "333   0.19152  0.100586  0.912902  0.477650  0.806222\n",
       "332  0.261113  0.670622  0.848614  0.161915  0.902897\n",
       "331  0.543409  0.236225  0.837900  0.752870  0.192815\n",
       "330  0.674854  0.498759  0.590040  0.452137  0.187723\n",
       "329  0.136621  0.635423  0.126561  0.975457  0.051883\n",
       "..        ...       ...       ...       ...       ...\n",
       "4    0.060316  0.117865  0.506711  0.944531  0.573925\n",
       "3    0.010762  0.346614  0.173182  0.193108  0.493332\n",
       "2    0.381868  0.052470  0.868436  0.415003  0.646704\n",
       "1    0.033486  0.414209  0.961543  0.378168  0.199287\n",
       "0       imran  0.968230  0.428492  0.254799  0.742577\n",
       "\n",
       "[334 rows x 5 columns]"
      ]
     },
     "execution_count": 45,
     "metadata": {},
     "output_type": "execute_result"
    }
   ],
   "source": [
    "# sorting\n",
    "newdf.sort_index(axis=0, ascending=False)"
   ]
  },
  {
   "cell_type": "code",
   "execution_count": 46,
   "id": "d47f6930",
   "metadata": {},
   "outputs": [],
   "source": [
    "# view\n",
    "newdf2 = newdf"
   ]
  },
  {
   "cell_type": "code",
   "execution_count": 47,
   "id": "1627b7b2",
   "metadata": {},
   "outputs": [],
   "source": [
    "newdf2[0][0] = 9783"
   ]
  },
  {
   "cell_type": "code",
   "execution_count": 48,
   "id": "728629d3",
   "metadata": {},
   "outputs": [
    {
     "data": {
      "text/html": [
       "<div>\n",
       "<style scoped>\n",
       "    .dataframe tbody tr th:only-of-type {\n",
       "        vertical-align: middle;\n",
       "    }\n",
       "\n",
       "    .dataframe tbody tr th {\n",
       "        vertical-align: top;\n",
       "    }\n",
       "\n",
       "    .dataframe thead th {\n",
       "        text-align: right;\n",
       "    }\n",
       "</style>\n",
       "<table border=\"1\" class=\"dataframe\">\n",
       "  <thead>\n",
       "    <tr style=\"text-align: right;\">\n",
       "      <th></th>\n",
       "      <th>0</th>\n",
       "      <th>1</th>\n",
       "      <th>2</th>\n",
       "      <th>3</th>\n",
       "      <th>4</th>\n",
       "    </tr>\n",
       "  </thead>\n",
       "  <tbody>\n",
       "    <tr>\n",
       "      <th>0</th>\n",
       "      <td>9783</td>\n",
       "      <td>0.968230</td>\n",
       "      <td>0.428492</td>\n",
       "      <td>0.254799</td>\n",
       "      <td>0.742577</td>\n",
       "    </tr>\n",
       "    <tr>\n",
       "      <th>1</th>\n",
       "      <td>0.033486</td>\n",
       "      <td>0.414209</td>\n",
       "      <td>0.961543</td>\n",
       "      <td>0.378168</td>\n",
       "      <td>0.199287</td>\n",
       "    </tr>\n",
       "    <tr>\n",
       "      <th>2</th>\n",
       "      <td>0.381868</td>\n",
       "      <td>0.052470</td>\n",
       "      <td>0.868436</td>\n",
       "      <td>0.415003</td>\n",
       "      <td>0.646704</td>\n",
       "    </tr>\n",
       "    <tr>\n",
       "      <th>3</th>\n",
       "      <td>0.010762</td>\n",
       "      <td>0.346614</td>\n",
       "      <td>0.173182</td>\n",
       "      <td>0.193108</td>\n",
       "      <td>0.493332</td>\n",
       "    </tr>\n",
       "    <tr>\n",
       "      <th>4</th>\n",
       "      <td>0.060316</td>\n",
       "      <td>0.117865</td>\n",
       "      <td>0.506711</td>\n",
       "      <td>0.944531</td>\n",
       "      <td>0.573925</td>\n",
       "    </tr>\n",
       "    <tr>\n",
       "      <th>...</th>\n",
       "      <td>...</td>\n",
       "      <td>...</td>\n",
       "      <td>...</td>\n",
       "      <td>...</td>\n",
       "      <td>...</td>\n",
       "    </tr>\n",
       "    <tr>\n",
       "      <th>329</th>\n",
       "      <td>0.136621</td>\n",
       "      <td>0.635423</td>\n",
       "      <td>0.126561</td>\n",
       "      <td>0.975457</td>\n",
       "      <td>0.051883</td>\n",
       "    </tr>\n",
       "    <tr>\n",
       "      <th>330</th>\n",
       "      <td>0.674854</td>\n",
       "      <td>0.498759</td>\n",
       "      <td>0.590040</td>\n",
       "      <td>0.452137</td>\n",
       "      <td>0.187723</td>\n",
       "    </tr>\n",
       "    <tr>\n",
       "      <th>331</th>\n",
       "      <td>0.543409</td>\n",
       "      <td>0.236225</td>\n",
       "      <td>0.837900</td>\n",
       "      <td>0.752870</td>\n",
       "      <td>0.192815</td>\n",
       "    </tr>\n",
       "    <tr>\n",
       "      <th>332</th>\n",
       "      <td>0.261113</td>\n",
       "      <td>0.670622</td>\n",
       "      <td>0.848614</td>\n",
       "      <td>0.161915</td>\n",
       "      <td>0.902897</td>\n",
       "    </tr>\n",
       "    <tr>\n",
       "      <th>333</th>\n",
       "      <td>0.19152</td>\n",
       "      <td>0.100586</td>\n",
       "      <td>0.912902</td>\n",
       "      <td>0.477650</td>\n",
       "      <td>0.806222</td>\n",
       "    </tr>\n",
       "  </tbody>\n",
       "</table>\n",
       "<p>334 rows × 5 columns</p>\n",
       "</div>"
      ],
      "text/plain": [
       "            0         1         2         3         4\n",
       "0        9783  0.968230  0.428492  0.254799  0.742577\n",
       "1    0.033486  0.414209  0.961543  0.378168  0.199287\n",
       "2    0.381868  0.052470  0.868436  0.415003  0.646704\n",
       "3    0.010762  0.346614  0.173182  0.193108  0.493332\n",
       "4    0.060316  0.117865  0.506711  0.944531  0.573925\n",
       "..        ...       ...       ...       ...       ...\n",
       "329  0.136621  0.635423  0.126561  0.975457  0.051883\n",
       "330  0.674854  0.498759  0.590040  0.452137  0.187723\n",
       "331  0.543409  0.236225  0.837900  0.752870  0.192815\n",
       "332  0.261113  0.670622  0.848614  0.161915  0.902897\n",
       "333   0.19152  0.100586  0.912902  0.477650  0.806222\n",
       "\n",
       "[334 rows x 5 columns]"
      ]
     },
     "execution_count": 48,
     "metadata": {},
     "output_type": "execute_result"
    }
   ],
   "source": [
    "newdf"
   ]
  },
  {
   "cell_type": "code",
   "execution_count": 49,
   "id": "ec88a3cd",
   "metadata": {},
   "outputs": [],
   "source": [
    "# copy()\n",
    "newdf2 = newdf.copy()"
   ]
  },
  {
   "cell_type": "code",
   "execution_count": 50,
   "id": "1594cc41",
   "metadata": {},
   "outputs": [
    {
     "name": "stderr",
     "output_type": "stream",
     "text": [
      "C:\\Users\\PC\\AppData\\Local\\Temp\\ipykernel_8860\\1658867033.py:1: SettingWithCopyWarning: \n",
      "A value is trying to be set on a copy of a slice from a DataFrame\n",
      "\n",
      "See the caveats in the documentation: https://pandas.pydata.org/pandas-docs/stable/user_guide/indexing.html#returning-a-view-versus-a-copy\n",
      "  newdf2[0][0] = 89898\n"
     ]
    }
   ],
   "source": [
    "newdf2[0][0] = 89898"
   ]
  },
  {
   "cell_type": "code",
   "execution_count": 51,
   "id": "9e4ff146",
   "metadata": {},
   "outputs": [
    {
     "data": {
      "text/html": [
       "<div>\n",
       "<style scoped>\n",
       "    .dataframe tbody tr th:only-of-type {\n",
       "        vertical-align: middle;\n",
       "    }\n",
       "\n",
       "    .dataframe tbody tr th {\n",
       "        vertical-align: top;\n",
       "    }\n",
       "\n",
       "    .dataframe thead th {\n",
       "        text-align: right;\n",
       "    }\n",
       "</style>\n",
       "<table border=\"1\" class=\"dataframe\">\n",
       "  <thead>\n",
       "    <tr style=\"text-align: right;\">\n",
       "      <th></th>\n",
       "      <th>0</th>\n",
       "      <th>1</th>\n",
       "      <th>2</th>\n",
       "      <th>3</th>\n",
       "      <th>4</th>\n",
       "    </tr>\n",
       "  </thead>\n",
       "  <tbody>\n",
       "    <tr>\n",
       "      <th>0</th>\n",
       "      <td>89898</td>\n",
       "      <td>0.968230</td>\n",
       "      <td>0.428492</td>\n",
       "      <td>0.254799</td>\n",
       "      <td>0.742577</td>\n",
       "    </tr>\n",
       "    <tr>\n",
       "      <th>1</th>\n",
       "      <td>0.033486</td>\n",
       "      <td>0.414209</td>\n",
       "      <td>0.961543</td>\n",
       "      <td>0.378168</td>\n",
       "      <td>0.199287</td>\n",
       "    </tr>\n",
       "    <tr>\n",
       "      <th>2</th>\n",
       "      <td>0.381868</td>\n",
       "      <td>0.052470</td>\n",
       "      <td>0.868436</td>\n",
       "      <td>0.415003</td>\n",
       "      <td>0.646704</td>\n",
       "    </tr>\n",
       "    <tr>\n",
       "      <th>3</th>\n",
       "      <td>0.010762</td>\n",
       "      <td>0.346614</td>\n",
       "      <td>0.173182</td>\n",
       "      <td>0.193108</td>\n",
       "      <td>0.493332</td>\n",
       "    </tr>\n",
       "    <tr>\n",
       "      <th>4</th>\n",
       "      <td>0.060316</td>\n",
       "      <td>0.117865</td>\n",
       "      <td>0.506711</td>\n",
       "      <td>0.944531</td>\n",
       "      <td>0.573925</td>\n",
       "    </tr>\n",
       "    <tr>\n",
       "      <th>...</th>\n",
       "      <td>...</td>\n",
       "      <td>...</td>\n",
       "      <td>...</td>\n",
       "      <td>...</td>\n",
       "      <td>...</td>\n",
       "    </tr>\n",
       "    <tr>\n",
       "      <th>329</th>\n",
       "      <td>0.136621</td>\n",
       "      <td>0.635423</td>\n",
       "      <td>0.126561</td>\n",
       "      <td>0.975457</td>\n",
       "      <td>0.051883</td>\n",
       "    </tr>\n",
       "    <tr>\n",
       "      <th>330</th>\n",
       "      <td>0.674854</td>\n",
       "      <td>0.498759</td>\n",
       "      <td>0.590040</td>\n",
       "      <td>0.452137</td>\n",
       "      <td>0.187723</td>\n",
       "    </tr>\n",
       "    <tr>\n",
       "      <th>331</th>\n",
       "      <td>0.543409</td>\n",
       "      <td>0.236225</td>\n",
       "      <td>0.837900</td>\n",
       "      <td>0.752870</td>\n",
       "      <td>0.192815</td>\n",
       "    </tr>\n",
       "    <tr>\n",
       "      <th>332</th>\n",
       "      <td>0.261113</td>\n",
       "      <td>0.670622</td>\n",
       "      <td>0.848614</td>\n",
       "      <td>0.161915</td>\n",
       "      <td>0.902897</td>\n",
       "    </tr>\n",
       "    <tr>\n",
       "      <th>333</th>\n",
       "      <td>0.19152</td>\n",
       "      <td>0.100586</td>\n",
       "      <td>0.912902</td>\n",
       "      <td>0.477650</td>\n",
       "      <td>0.806222</td>\n",
       "    </tr>\n",
       "  </tbody>\n",
       "</table>\n",
       "<p>334 rows × 5 columns</p>\n",
       "</div>"
      ],
      "text/plain": [
       "            0         1         2         3         4\n",
       "0       89898  0.968230  0.428492  0.254799  0.742577\n",
       "1    0.033486  0.414209  0.961543  0.378168  0.199287\n",
       "2    0.381868  0.052470  0.868436  0.415003  0.646704\n",
       "3    0.010762  0.346614  0.173182  0.193108  0.493332\n",
       "4    0.060316  0.117865  0.506711  0.944531  0.573925\n",
       "..        ...       ...       ...       ...       ...\n",
       "329  0.136621  0.635423  0.126561  0.975457  0.051883\n",
       "330  0.674854  0.498759  0.590040  0.452137  0.187723\n",
       "331  0.543409  0.236225  0.837900  0.752870  0.192815\n",
       "332  0.261113  0.670622  0.848614  0.161915  0.902897\n",
       "333   0.19152  0.100586  0.912902  0.477650  0.806222\n",
       "\n",
       "[334 rows x 5 columns]"
      ]
     },
     "execution_count": 51,
     "metadata": {},
     "output_type": "execute_result"
    }
   ],
   "source": [
    "newdf2"
   ]
  },
  {
   "cell_type": "markdown",
   "id": "e64d4518",
   "metadata": {},
   "source": [
    "## "
   ]
  },
  {
   "cell_type": "code",
   "execution_count": 52,
   "id": "5b896b0b",
   "metadata": {},
   "outputs": [],
   "source": [
    "# for setting value we normally use loc\n",
    "newdf.loc[0,0] = 645"
   ]
  },
  {
   "cell_type": "code",
   "execution_count": 53,
   "id": "68419781",
   "metadata": {},
   "outputs": [
    {
     "data": {
      "text/html": [
       "<div>\n",
       "<style scoped>\n",
       "    .dataframe tbody tr th:only-of-type {\n",
       "        vertical-align: middle;\n",
       "    }\n",
       "\n",
       "    .dataframe tbody tr th {\n",
       "        vertical-align: top;\n",
       "    }\n",
       "\n",
       "    .dataframe thead th {\n",
       "        text-align: right;\n",
       "    }\n",
       "</style>\n",
       "<table border=\"1\" class=\"dataframe\">\n",
       "  <thead>\n",
       "    <tr style=\"text-align: right;\">\n",
       "      <th></th>\n",
       "      <th>0</th>\n",
       "      <th>1</th>\n",
       "      <th>2</th>\n",
       "      <th>3</th>\n",
       "      <th>4</th>\n",
       "    </tr>\n",
       "  </thead>\n",
       "  <tbody>\n",
       "    <tr>\n",
       "      <th>0</th>\n",
       "      <td>645</td>\n",
       "      <td>0.968230</td>\n",
       "      <td>0.428492</td>\n",
       "      <td>0.254799</td>\n",
       "      <td>0.742577</td>\n",
       "    </tr>\n",
       "    <tr>\n",
       "      <th>1</th>\n",
       "      <td>0.033486</td>\n",
       "      <td>0.414209</td>\n",
       "      <td>0.961543</td>\n",
       "      <td>0.378168</td>\n",
       "      <td>0.199287</td>\n",
       "    </tr>\n",
       "  </tbody>\n",
       "</table>\n",
       "</div>"
      ],
      "text/plain": [
       "          0         1         2         3         4\n",
       "0       645  0.968230  0.428492  0.254799  0.742577\n",
       "1  0.033486  0.414209  0.961543  0.378168  0.199287"
      ]
     },
     "execution_count": 53,
     "metadata": {},
     "output_type": "execute_result"
    }
   ],
   "source": [
    "newdf.head(2)"
   ]
  },
  {
   "cell_type": "code",
   "execution_count": 54,
   "id": "8aee0e14",
   "metadata": {},
   "outputs": [],
   "source": [
    "newdf.columns = list(\"ABCDE\")"
   ]
  },
  {
   "cell_type": "code",
   "execution_count": 55,
   "id": "151f2b95",
   "metadata": {},
   "outputs": [
    {
     "data": {
      "text/html": [
       "<div>\n",
       "<style scoped>\n",
       "    .dataframe tbody tr th:only-of-type {\n",
       "        vertical-align: middle;\n",
       "    }\n",
       "\n",
       "    .dataframe tbody tr th {\n",
       "        vertical-align: top;\n",
       "    }\n",
       "\n",
       "    .dataframe thead th {\n",
       "        text-align: right;\n",
       "    }\n",
       "</style>\n",
       "<table border=\"1\" class=\"dataframe\">\n",
       "  <thead>\n",
       "    <tr style=\"text-align: right;\">\n",
       "      <th></th>\n",
       "      <th>A</th>\n",
       "      <th>B</th>\n",
       "      <th>C</th>\n",
       "      <th>D</th>\n",
       "      <th>E</th>\n",
       "    </tr>\n",
       "  </thead>\n",
       "  <tbody>\n",
       "    <tr>\n",
       "      <th>0</th>\n",
       "      <td>645</td>\n",
       "      <td>0.968230</td>\n",
       "      <td>0.428492</td>\n",
       "      <td>0.254799</td>\n",
       "      <td>0.742577</td>\n",
       "    </tr>\n",
       "    <tr>\n",
       "      <th>1</th>\n",
       "      <td>0.033486</td>\n",
       "      <td>0.414209</td>\n",
       "      <td>0.961543</td>\n",
       "      <td>0.378168</td>\n",
       "      <td>0.199287</td>\n",
       "    </tr>\n",
       "  </tbody>\n",
       "</table>\n",
       "</div>"
      ],
      "text/plain": [
       "          A         B         C         D         E\n",
       "0       645  0.968230  0.428492  0.254799  0.742577\n",
       "1  0.033486  0.414209  0.961543  0.378168  0.199287"
      ]
     },
     "execution_count": 55,
     "metadata": {},
     "output_type": "execute_result"
    }
   ],
   "source": [
    "newdf.head(2)"
   ]
  },
  {
   "cell_type": "code",
   "execution_count": 56,
   "id": "d99d9d26",
   "metadata": {},
   "outputs": [],
   "source": [
    "newdf = newdf.drop('E', axis=1)"
   ]
  },
  {
   "cell_type": "code",
   "execution_count": 57,
   "id": "2f24636c",
   "metadata": {},
   "outputs": [
    {
     "data": {
      "text/html": [
       "<div>\n",
       "<style scoped>\n",
       "    .dataframe tbody tr th:only-of-type {\n",
       "        vertical-align: middle;\n",
       "    }\n",
       "\n",
       "    .dataframe tbody tr th {\n",
       "        vertical-align: top;\n",
       "    }\n",
       "\n",
       "    .dataframe thead th {\n",
       "        text-align: right;\n",
       "    }\n",
       "</style>\n",
       "<table border=\"1\" class=\"dataframe\">\n",
       "  <thead>\n",
       "    <tr style=\"text-align: right;\">\n",
       "      <th></th>\n",
       "      <th>A</th>\n",
       "      <th>B</th>\n",
       "      <th>C</th>\n",
       "      <th>D</th>\n",
       "    </tr>\n",
       "  </thead>\n",
       "  <tbody>\n",
       "    <tr>\n",
       "      <th>0</th>\n",
       "      <td>645</td>\n",
       "      <td>0.968230</td>\n",
       "      <td>0.428492</td>\n",
       "      <td>0.254799</td>\n",
       "    </tr>\n",
       "    <tr>\n",
       "      <th>1</th>\n",
       "      <td>0.033486</td>\n",
       "      <td>0.414209</td>\n",
       "      <td>0.961543</td>\n",
       "      <td>0.378168</td>\n",
       "    </tr>\n",
       "  </tbody>\n",
       "</table>\n",
       "</div>"
      ],
      "text/plain": [
       "          A         B         C         D\n",
       "0       645  0.968230  0.428492  0.254799\n",
       "1  0.033486  0.414209  0.961543  0.378168"
      ]
     },
     "execution_count": 57,
     "metadata": {},
     "output_type": "execute_result"
    }
   ],
   "source": [
    "newdf.head(2)"
   ]
  },
  {
   "cell_type": "code",
   "execution_count": 58,
   "id": "f23547b8",
   "metadata": {},
   "outputs": [
    {
     "data": {
      "text/html": [
       "<div>\n",
       "<style scoped>\n",
       "    .dataframe tbody tr th:only-of-type {\n",
       "        vertical-align: middle;\n",
       "    }\n",
       "\n",
       "    .dataframe tbody tr th {\n",
       "        vertical-align: top;\n",
       "    }\n",
       "\n",
       "    .dataframe thead th {\n",
       "        text-align: right;\n",
       "    }\n",
       "</style>\n",
       "<table border=\"1\" class=\"dataframe\">\n",
       "  <thead>\n",
       "    <tr style=\"text-align: right;\">\n",
       "      <th></th>\n",
       "      <th>A</th>\n",
       "      <th>B</th>\n",
       "      <th>C</th>\n",
       "      <th>D</th>\n",
       "    </tr>\n",
       "  </thead>\n",
       "  <tbody>\n",
       "    <tr>\n",
       "      <th>1</th>\n",
       "      <td>0.033486</td>\n",
       "      <td>0.414209</td>\n",
       "      <td>0.961543</td>\n",
       "      <td>0.378168</td>\n",
       "    </tr>\n",
       "    <tr>\n",
       "      <th>3</th>\n",
       "      <td>0.010762</td>\n",
       "      <td>0.346614</td>\n",
       "      <td>0.173182</td>\n",
       "      <td>0.193108</td>\n",
       "    </tr>\n",
       "    <tr>\n",
       "      <th>4</th>\n",
       "      <td>0.060316</td>\n",
       "      <td>0.117865</td>\n",
       "      <td>0.506711</td>\n",
       "      <td>0.944531</td>\n",
       "    </tr>\n",
       "    <tr>\n",
       "      <th>5</th>\n",
       "      <td>0.084896</td>\n",
       "      <td>0.545345</td>\n",
       "      <td>0.316032</td>\n",
       "      <td>0.343798</td>\n",
       "    </tr>\n",
       "    <tr>\n",
       "      <th>16</th>\n",
       "      <td>0.289129</td>\n",
       "      <td>0.756770</td>\n",
       "      <td>0.112589</td>\n",
       "      <td>0.233407</td>\n",
       "    </tr>\n",
       "    <tr>\n",
       "      <th>...</th>\n",
       "      <td>...</td>\n",
       "      <td>...</td>\n",
       "      <td>...</td>\n",
       "      <td>...</td>\n",
       "    </tr>\n",
       "    <tr>\n",
       "      <th>316</th>\n",
       "      <td>0.014109</td>\n",
       "      <td>0.483889</td>\n",
       "      <td>0.510604</td>\n",
       "      <td>0.342308</td>\n",
       "    </tr>\n",
       "    <tr>\n",
       "      <th>318</th>\n",
       "      <td>0.139745</td>\n",
       "      <td>0.408488</td>\n",
       "      <td>0.672072</td>\n",
       "      <td>0.542197</td>\n",
       "    </tr>\n",
       "    <tr>\n",
       "      <th>329</th>\n",
       "      <td>0.136621</td>\n",
       "      <td>0.635423</td>\n",
       "      <td>0.126561</td>\n",
       "      <td>0.975457</td>\n",
       "    </tr>\n",
       "    <tr>\n",
       "      <th>332</th>\n",
       "      <td>0.261113</td>\n",
       "      <td>0.670622</td>\n",
       "      <td>0.848614</td>\n",
       "      <td>0.161915</td>\n",
       "    </tr>\n",
       "    <tr>\n",
       "      <th>333</th>\n",
       "      <td>0.19152</td>\n",
       "      <td>0.100586</td>\n",
       "      <td>0.912902</td>\n",
       "      <td>0.477650</td>\n",
       "    </tr>\n",
       "  </tbody>\n",
       "</table>\n",
       "<p>92 rows × 4 columns</p>\n",
       "</div>"
      ],
      "text/plain": [
       "            A         B         C         D\n",
       "1    0.033486  0.414209  0.961543  0.378168\n",
       "3    0.010762  0.346614  0.173182  0.193108\n",
       "4    0.060316  0.117865  0.506711  0.944531\n",
       "5    0.084896  0.545345  0.316032  0.343798\n",
       "16   0.289129  0.756770  0.112589  0.233407\n",
       "..        ...       ...       ...       ...\n",
       "316  0.014109  0.483889  0.510604  0.342308\n",
       "318  0.139745  0.408488  0.672072  0.542197\n",
       "329  0.136621  0.635423  0.126561  0.975457\n",
       "332  0.261113  0.670622  0.848614  0.161915\n",
       "333   0.19152  0.100586  0.912902  0.477650\n",
       "\n",
       "[92 rows x 4 columns]"
      ]
     },
     "execution_count": 58,
     "metadata": {},
     "output_type": "execute_result"
    }
   ],
   "source": [
    "newdf.loc[(newdf['A']<0.3)]"
   ]
  },
  {
   "cell_type": "code",
   "execution_count": null,
   "id": "6b83455b",
   "metadata": {},
   "outputs": [],
   "source": []
  },
  {
   "cell_type": "code",
   "execution_count": 23,
   "id": "19c514db",
   "metadata": {},
   "outputs": [],
   "source": [
    "df = pd.DataFrame({\"name\": ['Alfred', 'Batman', 'Catwoman'],\n",
    "                    \"toy\": [np.nan, 'Batmobile', 'Bullwhip'],\n",
    "                    \"born\": [pd.NaT, pd.Timestamp(\"1940-04-25\"),\n",
    "                            pd.NaT]})"
   ]
  },
  {
   "cell_type": "code",
   "execution_count": 24,
   "id": "8e5667c5",
   "metadata": {},
   "outputs": [
    {
     "data": {
      "text/html": [
       "<div>\n",
       "<style scoped>\n",
       "    .dataframe tbody tr th:only-of-type {\n",
       "        vertical-align: middle;\n",
       "    }\n",
       "\n",
       "    .dataframe tbody tr th {\n",
       "        vertical-align: top;\n",
       "    }\n",
       "\n",
       "    .dataframe thead th {\n",
       "        text-align: right;\n",
       "    }\n",
       "</style>\n",
       "<table border=\"1\" class=\"dataframe\">\n",
       "  <thead>\n",
       "    <tr style=\"text-align: right;\">\n",
       "      <th></th>\n",
       "      <th>name</th>\n",
       "      <th>toy</th>\n",
       "      <th>born</th>\n",
       "    </tr>\n",
       "  </thead>\n",
       "  <tbody>\n",
       "    <tr>\n",
       "      <th>0</th>\n",
       "      <td>Alfred</td>\n",
       "      <td>NaN</td>\n",
       "      <td>NaT</td>\n",
       "    </tr>\n",
       "    <tr>\n",
       "      <th>1</th>\n",
       "      <td>Batman</td>\n",
       "      <td>Batmobile</td>\n",
       "      <td>1940-04-25</td>\n",
       "    </tr>\n",
       "    <tr>\n",
       "      <th>2</th>\n",
       "      <td>Catwoman</td>\n",
       "      <td>Bullwhip</td>\n",
       "      <td>NaT</td>\n",
       "    </tr>\n",
       "  </tbody>\n",
       "</table>\n",
       "</div>"
      ],
      "text/plain": [
       "       name        toy       born\n",
       "0    Alfred        NaN        NaT\n",
       "1    Batman  Batmobile 1940-04-25\n",
       "2  Catwoman   Bullwhip        NaT"
      ]
     },
     "execution_count": 24,
     "metadata": {},
     "output_type": "execute_result"
    }
   ],
   "source": [
    "df.head()"
   ]
  },
  {
   "cell_type": "code",
   "execution_count": 25,
   "id": "04a7ec68",
   "metadata": {},
   "outputs": [
    {
     "data": {
      "text/html": [
       "<div>\n",
       "<style scoped>\n",
       "    .dataframe tbody tr th:only-of-type {\n",
       "        vertical-align: middle;\n",
       "    }\n",
       "\n",
       "    .dataframe tbody tr th {\n",
       "        vertical-align: top;\n",
       "    }\n",
       "\n",
       "    .dataframe thead th {\n",
       "        text-align: right;\n",
       "    }\n",
       "</style>\n",
       "<table border=\"1\" class=\"dataframe\">\n",
       "  <thead>\n",
       "    <tr style=\"text-align: right;\">\n",
       "      <th></th>\n",
       "      <th>name</th>\n",
       "      <th>toy</th>\n",
       "      <th>born</th>\n",
       "    </tr>\n",
       "  </thead>\n",
       "  <tbody>\n",
       "    <tr>\n",
       "      <th>1</th>\n",
       "      <td>Batman</td>\n",
       "      <td>Batmobile</td>\n",
       "      <td>1940-04-25</td>\n",
       "    </tr>\n",
       "  </tbody>\n",
       "</table>\n",
       "</div>"
      ],
      "text/plain": [
       "     name        toy       born\n",
       "1  Batman  Batmobile 1940-04-25"
      ]
     },
     "execution_count": 25,
     "metadata": {},
     "output_type": "execute_result"
    }
   ],
   "source": [
    "df.dropna()"
   ]
  },
  {
   "cell_type": "code",
   "execution_count": 26,
   "id": "e6838191",
   "metadata": {},
   "outputs": [
    {
     "data": {
      "text/html": [
       "<div>\n",
       "<style scoped>\n",
       "    .dataframe tbody tr th:only-of-type {\n",
       "        vertical-align: middle;\n",
       "    }\n",
       "\n",
       "    .dataframe tbody tr th {\n",
       "        vertical-align: top;\n",
       "    }\n",
       "\n",
       "    .dataframe thead th {\n",
       "        text-align: right;\n",
       "    }\n",
       "</style>\n",
       "<table border=\"1\" class=\"dataframe\">\n",
       "  <thead>\n",
       "    <tr style=\"text-align: right;\">\n",
       "      <th></th>\n",
       "      <th>name</th>\n",
       "      <th>toy</th>\n",
       "      <th>born</th>\n",
       "    </tr>\n",
       "  </thead>\n",
       "  <tbody>\n",
       "    <tr>\n",
       "      <th>0</th>\n",
       "      <td>Alfred</td>\n",
       "      <td>NaN</td>\n",
       "      <td>NaT</td>\n",
       "    </tr>\n",
       "    <tr>\n",
       "      <th>1</th>\n",
       "      <td>Batman</td>\n",
       "      <td>Batmobile</td>\n",
       "      <td>1940-04-25</td>\n",
       "    </tr>\n",
       "  </tbody>\n",
       "</table>\n",
       "</div>"
      ],
      "text/plain": [
       "     name        toy       born\n",
       "0  Alfred        NaN        NaT\n",
       "1  Batman  Batmobile 1940-04-25"
      ]
     },
     "execution_count": 26,
     "metadata": {},
     "output_type": "execute_result"
    }
   ],
   "source": [
    "df.drop_duplicates(subset=[\"born\"])"
   ]
  },
  {
   "cell_type": "code",
   "execution_count": 27,
   "id": "2ab9644b",
   "metadata": {},
   "outputs": [
    {
     "name": "stdout",
     "output_type": "stream",
     "text": [
      "<class 'pandas.core.frame.DataFrame'>\n",
      "RangeIndex: 3 entries, 0 to 2\n",
      "Data columns (total 3 columns):\n",
      " #   Column  Non-Null Count  Dtype         \n",
      "---  ------  --------------  -----         \n",
      " 0   name    3 non-null      object        \n",
      " 1   toy     2 non-null      object        \n",
      " 2   born    1 non-null      datetime64[ns]\n",
      "dtypes: datetime64[ns](1), object(2)\n",
      "memory usage: 204.0+ bytes\n"
     ]
    }
   ],
   "source": [
    "df.info()"
   ]
  },
  {
   "cell_type": "code",
   "execution_count": null,
   "id": "a7b97849",
   "metadata": {},
   "outputs": [],
   "source": []
  },
  {
   "cell_type": "markdown",
   "id": "32fa0c17",
   "metadata": {},
   "source": [
    "#### Create a dataframe which contain only integers with 3 rows and 2 columns\n",
    "\n",
    "##### Run the following methods\n",
    "- df.describe\n",
    "- df.mean()\n",
    "- df.corr()\n",
    "- df.count()\n",
    "- df.max()\n",
    "- df.min()\n",
    "- df.median()\n",
    "- df.std()"
   ]
  },
  {
   "cell_type": "code",
   "execution_count": 30,
   "id": "6202456c",
   "metadata": {},
   "outputs": [],
   "source": [
    "mydf = pd.DataFrame( {\n",
    "    \"name\": ['imran', 'ali', 'ahmad', 'akram'],\n",
    "    \"marks\": [92, 54, 56, 75],\n",
    "    \"city\": ['swabi', 'peshawar', 'islamabad', 'sialkot']\n",
    "})"
   ]
  },
  {
   "cell_type": "code",
   "execution_count": 31,
   "id": "cd7fd62e",
   "metadata": {},
   "outputs": [
    {
     "data": {
      "text/html": [
       "<div>\n",
       "<style scoped>\n",
       "    .dataframe tbody tr th:only-of-type {\n",
       "        vertical-align: middle;\n",
       "    }\n",
       "\n",
       "    .dataframe tbody tr th {\n",
       "        vertical-align: top;\n",
       "    }\n",
       "\n",
       "    .dataframe thead th {\n",
       "        text-align: right;\n",
       "    }\n",
       "</style>\n",
       "<table border=\"1\" class=\"dataframe\">\n",
       "  <thead>\n",
       "    <tr style=\"text-align: right;\">\n",
       "      <th></th>\n",
       "      <th>name</th>\n",
       "      <th>marks</th>\n",
       "      <th>city</th>\n",
       "    </tr>\n",
       "  </thead>\n",
       "  <tbody>\n",
       "    <tr>\n",
       "      <th>0</th>\n",
       "      <td>imran</td>\n",
       "      <td>92</td>\n",
       "      <td>swabi</td>\n",
       "    </tr>\n",
       "    <tr>\n",
       "      <th>1</th>\n",
       "      <td>ali</td>\n",
       "      <td>54</td>\n",
       "      <td>peshawar</td>\n",
       "    </tr>\n",
       "    <tr>\n",
       "      <th>2</th>\n",
       "      <td>ahmad</td>\n",
       "      <td>56</td>\n",
       "      <td>islamabad</td>\n",
       "    </tr>\n",
       "    <tr>\n",
       "      <th>3</th>\n",
       "      <td>akram</td>\n",
       "      <td>75</td>\n",
       "      <td>sialkot</td>\n",
       "    </tr>\n",
       "  </tbody>\n",
       "</table>\n",
       "</div>"
      ],
      "text/plain": [
       "    name  marks       city\n",
       "0  imran     92      swabi\n",
       "1    ali     54   peshawar\n",
       "2  ahmad     56  islamabad\n",
       "3  akram     75    sialkot"
      ]
     },
     "execution_count": 31,
     "metadata": {},
     "output_type": "execute_result"
    }
   ],
   "source": [
    "mydf"
   ]
  },
  {
   "cell_type": "code",
   "execution_count": 32,
   "id": "31d53407",
   "metadata": {},
   "outputs": [
    {
     "data": {
      "text/html": [
       "<div>\n",
       "<style scoped>\n",
       "    .dataframe tbody tr th:only-of-type {\n",
       "        vertical-align: middle;\n",
       "    }\n",
       "\n",
       "    .dataframe tbody tr th {\n",
       "        vertical-align: top;\n",
       "    }\n",
       "\n",
       "    .dataframe thead th {\n",
       "        text-align: right;\n",
       "    }\n",
       "</style>\n",
       "<table border=\"1\" class=\"dataframe\">\n",
       "  <thead>\n",
       "    <tr style=\"text-align: right;\">\n",
       "      <th></th>\n",
       "      <th>marks</th>\n",
       "    </tr>\n",
       "  </thead>\n",
       "  <tbody>\n",
       "    <tr>\n",
       "      <th>count</th>\n",
       "      <td>4.000000</td>\n",
       "    </tr>\n",
       "    <tr>\n",
       "      <th>mean</th>\n",
       "      <td>69.250000</td>\n",
       "    </tr>\n",
       "    <tr>\n",
       "      <th>std</th>\n",
       "      <td>17.876894</td>\n",
       "    </tr>\n",
       "    <tr>\n",
       "      <th>min</th>\n",
       "      <td>54.000000</td>\n",
       "    </tr>\n",
       "    <tr>\n",
       "      <th>25%</th>\n",
       "      <td>55.500000</td>\n",
       "    </tr>\n",
       "    <tr>\n",
       "      <th>50%</th>\n",
       "      <td>65.500000</td>\n",
       "    </tr>\n",
       "    <tr>\n",
       "      <th>75%</th>\n",
       "      <td>79.250000</td>\n",
       "    </tr>\n",
       "    <tr>\n",
       "      <th>max</th>\n",
       "      <td>92.000000</td>\n",
       "    </tr>\n",
       "  </tbody>\n",
       "</table>\n",
       "</div>"
      ],
      "text/plain": [
       "           marks\n",
       "count   4.000000\n",
       "mean   69.250000\n",
       "std    17.876894\n",
       "min    54.000000\n",
       "25%    55.500000\n",
       "50%    65.500000\n",
       "75%    79.250000\n",
       "max    92.000000"
      ]
     },
     "execution_count": 32,
     "metadata": {},
     "output_type": "execute_result"
    }
   ],
   "source": [
    "mydf.describe()"
   ]
  },
  {
   "cell_type": "code",
   "execution_count": 34,
   "id": "22f1d627",
   "metadata": {},
   "outputs": [],
   "source": [
    "# mydf.mean()"
   ]
  },
  {
   "cell_type": "code",
   "execution_count": 35,
   "id": "43308d42",
   "metadata": {},
   "outputs": [
    {
     "data": {
      "text/plain": [
       "<bound method DataFrame.corr of     name  marks       city\n",
       "0  imran     92      swabi\n",
       "1    ali     54   peshawar\n",
       "2  ahmad     56  islamabad\n",
       "3  akram     75    sialkot>"
      ]
     },
     "execution_count": 35,
     "metadata": {},
     "output_type": "execute_result"
    }
   ],
   "source": [
    "mydf.corr"
   ]
  },
  {
   "cell_type": "code",
   "execution_count": 36,
   "id": "80b74dfd",
   "metadata": {},
   "outputs": [
    {
     "data": {
      "text/plain": [
       "name     imran\n",
       "marks       92\n",
       "city     swabi\n",
       "dtype: object"
      ]
     },
     "execution_count": 36,
     "metadata": {},
     "output_type": "execute_result"
    }
   ],
   "source": [
    "mydf.max()"
   ]
  },
  {
   "cell_type": "code",
   "execution_count": 37,
   "id": "df5c78f7",
   "metadata": {},
   "outputs": [
    {
     "data": {
      "text/plain": [
       "name         ahmad\n",
       "marks           54\n",
       "city     islamabad\n",
       "dtype: object"
      ]
     },
     "execution_count": 37,
     "metadata": {},
     "output_type": "execute_result"
    }
   ],
   "source": [
    "mydf.min()"
   ]
  }
 ],
 "metadata": {
  "kernelspec": {
   "display_name": "Python 3 (ipykernel)",
   "language": "python",
   "name": "python3"
  },
  "language_info": {
   "codemirror_mode": {
    "name": "ipython",
    "version": 3
   },
   "file_extension": ".py",
   "mimetype": "text/x-python",
   "name": "python",
   "nbconvert_exporter": "python",
   "pygments_lexer": "ipython3",
   "version": "3.11.5"
  }
 },
 "nbformat": 4,
 "nbformat_minor": 5
}
