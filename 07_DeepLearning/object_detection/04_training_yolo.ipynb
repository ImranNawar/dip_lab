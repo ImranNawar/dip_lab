{
  "nbformat": 4,
  "nbformat_minor": 0,
  "metadata": {
    "colab": {
      "provenance": [],
      "gpuType": "T4"
    },
    "kernelspec": {
      "name": "python3",
      "display_name": "Python 3"
    },
    "language_info": {
      "name": "python"
    },
    "accelerator": "GPU"
  },
  "cells": [
    {
      "cell_type": "code",
      "execution_count": 8,
      "metadata": {
        "id": "bWDszT22J2Pj"
      },
      "outputs": [],
      "source": [
        "import os"
      ]
    },
    {
      "cell_type": "markdown",
      "source": [
        "**Setup and clone darknet**"
      ],
      "metadata": {
        "id": "JhOWgVRZb2ao"
      }
    },
    {
      "cell_type": "code",
      "source": [
        "if not os.path.exists('darknet'):\n",
        "    !git clone https://github.com/AlexeyAB/darknet\n",
        "    %cd /content/darknet\n",
        "    !sed -i 's/OPENCV=0/OPENCV=1/' Makefile\n",
        "    !sed -i 's/GPU=0/GPU=1/' Makefile\n",
        "    !sed -i 's/CUDNN=0/CUDNN=1/' Makefile\n",
        "    !sed -i 's/CUDNN_HALF=0/CUDNN_HALF=1/' Makefile\n",
        "    !make\n",
        "    %cd /content\n",
        "    !pip install -q torch_snippets\n",
        "    !wget --quiet https://www.dropbox.com/s/agmzwk95v96ihic/open-images-bus-trucks.tar.xz\n",
        "    !tar -xf open-images-bus-trucks.tar.xz\n",
        "    !rm open-images-bus-trucks.tar.xz\n",
        "    !wget --quiet https://github.com/AlexeyAB/darknet/releases/download/darknet_yolo_v3_optimal/yolov4.weights"
      ],
      "metadata": {
        "collapsed": true,
        "id": "cNcGuImuKWX7"
      },
      "execution_count": 26,
      "outputs": []
    },
    {
      "cell_type": "markdown",
      "source": [
        "**Test darknet installation**"
      ],
      "metadata": {
        "id": "ArWsR9GqcCNj"
      }
    },
    {
      "cell_type": "code",
      "source": [
        "!./darknet detector test darknet/cfg/coco.data darknet/cfg/yolov4.cfg yolov4.weights darknet/data/person.jpg"
      ],
      "metadata": {
        "colab": {
          "base_uri": "https://localhost:8080/"
        },
        "collapsed": true,
        "id": "-1teyCnRWuwi",
        "outputId": "ad1db4f3-fcdb-4deb-e45a-46f55867dfad"
      },
      "execution_count": 44,
      "outputs": [
        {
          "output_type": "stream",
          "name": "stdout",
          "text": [
            " GPU isn't used \n",
            " OpenCV isn't used - data augmentation will be slow \n",
            "Couldn't open file: darknet/cfg/coco.data\n"
          ]
        }
      ]
    },
    {
      "cell_type": "markdown",
      "source": [
        "**Setting up the dataset format**"
      ],
      "metadata": {
        "id": "iMfDlbKWYy5S"
      }
    },
    {
      "cell_type": "code",
      "source": [
        "# Cell 3: Set up Dataset Format\n",
        "%%writefile data/obj.names\n",
        "bus\n",
        "truck\n",
        "\n",
        "%%writefile data/obj.data\n",
        "classes = 2\n",
        "train = data/train.txt\n",
        "valid = data/val.txt\n",
        "names = data/obj.names\n",
        "backup = backup/\n",
        "\n",
        "!mkdir -p data/obj\n",
        "!cp -r open-images-bus-trucks/images/* data/obj/\n",
        "!cp open-images-bus-trucks/yolo_labels/all/train.txt data/\n",
        "!cp open-images-bus-trucks/yolo_labels/all/val.txt data/\n",
        "!cp open-images-bus-trucks/yolo_labels/all/labels/*.txt data/obj/"
      ],
      "metadata": {
        "colab": {
          "base_uri": "https://localhost:8080/"
        },
        "id": "CF3XeA0yX0yn",
        "outputId": "2b4a3a50-c30b-4a35-da5d-679ac26eedec"
      },
      "execution_count": 32,
      "outputs": [
        {
          "output_type": "stream",
          "name": "stdout",
          "text": [
            "Overwriting data/obj.names\n"
          ]
        }
      ]
    },
    {
      "cell_type": "markdown",
      "source": [
        "**Configuring the architecture**"
      ],
      "metadata": {
        "id": "JkLtllwoZ2G-"
      }
    },
    {
      "cell_type": "code",
      "source": [
        "# Cell 4: Configure the Architecture\n",
        "!cp darknet/cfg/yolov4-tiny-custom.cfg cfg/yolov4-tiny-bus-trucks.cfg\n",
        "!sed -i 's/max_batches = 500200/max_batches=4000/' cfg/yolov4-tiny-bus-trucks.cfg\n",
        "!sed -i 's/subdivisions=1/subdivisions=16/' cfg/yolov4-tiny-bus-trucks.cfg\n",
        "!sed -i 's/steps=400000,450000/steps=3200,3600/' cfg/yolov4-tiny-bus-trucks.cfg\n",
        "!sed -i 's/classes=80/classes=2/g' cfg/yolov4-tiny-bus-trucks.cfg\n",
        "!sed -i 's/filters=255/filters=21/g' cfg/yolov4-tiny-bus-trucks.cfg\n",
        "!sed -i 's/filters=57/filters=33/g' cfg/yolov4-tiny-bus-trucks.cfg"
      ],
      "metadata": {
        "colab": {
          "base_uri": "https://localhost:8080/"
        },
        "id": "WfS0GctWZcpf",
        "outputId": "83c9f7e7-c5e4-4269-9a50-5987dc794361"
      },
      "execution_count": 33,
      "outputs": [
        {
          "output_type": "stream",
          "name": "stdout",
          "text": [
            "cp: cannot stat 'darknet/cfg/yolov4-tiny-custom.cfg': Not a directory\n"
          ]
        }
      ]
    },
    {
      "cell_type": "markdown",
      "source": [
        "**Download pre-trained weights**"
      ],
      "metadata": {
        "id": "en8EaNNjaT5l"
      }
    },
    {
      "cell_type": "code",
      "source": [
        "# Cell 5: Download Pre-trained Weights\n",
        "!wget --quiet https://github.com/AlexeyAB/darknet/releases/download/darknet_yolo_v4_pre/yolov4-tiny.conv.29\n",
        "!cp yolov4-tiny.conv.29 /content/darknet/"
      ],
      "metadata": {
        "id": "gC8wxyHvaW-Y"
      },
      "execution_count": 35,
      "outputs": []
    },
    {
      "cell_type": "markdown",
      "source": [
        "Train the model"
      ],
      "metadata": {
        "id": "pTVVt77TbCqU"
      }
    },
    {
      "cell_type": "code",
      "source": [
        "!./darknet detector train data/obj.data cfg/yolov4-tiny-bus-trucks.cfg yolov4-tiny.conv.29 -dont_show -mapLastAt"
      ],
      "metadata": {
        "collapsed": true,
        "colab": {
          "base_uri": "https://localhost:8080/"
        },
        "id": "vhinycDfaeqb",
        "outputId": "9118d934-0d2e-4529-a958-0ae8b41aa1c2"
      },
      "execution_count": 39,
      "outputs": [
        {
          "output_type": "stream",
          "name": "stdout",
          "text": [
            " GPU isn't used \n",
            " OpenCV isn't used - data augmentation will be slow \n",
            "yolov4-tiny-bus-trucks\n",
            "mini_batch = 1, batch = 166, time_steps = 1, train = 1 \n",
            "   layer   filters  size/strd(dil)      input                output\n",
            "   0 conv     32       3 x 3/ 2    416 x 416 x   3 ->  208 x 208 x  32 0.075 BF\n",
            "   1 conv     64       3 x 3/ 2    208 x 208 x  32 ->  104 x 104 x  64 0.399 BF\n",
            "   2 conv     64       3 x 3/ 1    104 x 104 x  64 ->  104 x 104 x  64 0.797 BF\n",
            "   3 route  2 \t\t                       1/2 ->  104 x 104 x  32 \n",
            "   4 conv     32       3 x 3/ 1    104 x 104 x  32 ->  104 x 104 x  32 0.199 BF\n",
            "   5 conv     32       3 x 3/ 1    104 x 104 x  32 ->  104 x 104 x  32 0.199 BF\n",
            "   6 route  5 4 \t                           ->  104 x 104 x  64 \n",
            "   7 conv     64       1 x 1/ 1    104 x 104 x  64 ->  104 x 104 x  64 0.089 BF\n",
            "   8 route  2 7 \t                           ->  104 x 104 x 128 \n",
            "   9 max                2x 2/ 2    104 x 104 x 128 ->   52 x  52 x 128 0.001 BF\n",
            "  10 conv    128       3 x 3/ 1     52 x  52 x 128 ->   52 x  52 x 128 0.797 BF\n",
            "  11 route  10 \t\t                       1/2 ->   52 x  52 x  64 \n",
            "  12 conv     64       3 x 3/ 1     52 x  52 x  64 ->   52 x  52 x  64 0.199 BF\n",
            "  13 conv     64       3 x 3/ 1     52 x  52 x  64 ->   52 x  52 x  64 0.199 BF\n",
            "  14 route  13 12 \t                           ->   52 x  52 x 128 \n",
            "  15 conv    128       1 x 1/ 1     52 x  52 x 128 ->   52 x  52 x 128 0.089 BF\n",
            "  16 route  10 15 \t                           ->   52 x  52 x 256 \n",
            "  17 max                2x 2/ 2     52 x  52 x 256 ->   26 x  26 x 256 0.001 BF\n",
            "  18 conv    256       3 x 3/ 1     26 x  26 x 256 ->   26 x  26 x 256 0.797 BF\n",
            "  19 route  18 \t\t                       1/2 ->   26 x  26 x 128 \n",
            "  20 conv    128       3 x 3/ 1     26 x  26 x 128 ->   26 x  26 x 128 0.199 BF\n",
            "  21 conv    128       3 x 3/ 1     26 x  26 x 128 ->   26 x  26 x 128 0.199 BF\n",
            "  22 route  21 20 \t                           ->   26 x  26 x 256 \n",
            "  23 conv    256       1 x 1/ 1     26 x  26 x 256 ->   26 x  26 x 256 0.089 BF\n",
            "  24 route  18 23 \t                           ->   26 x  26 x 512 \n",
            "  25 max                2x 2/ 2     26 x  26 x 512 ->   13 x  13 x 512 0.000 BF\n",
            "  26 conv    512       3 x 3/ 1     13 x  13 x 512 ->   13 x  13 x 512 0.797 BF\n",
            "  27 conv    256       1 x 1/ 1     13 x  13 x 512 ->   13 x  13 x 256 0.044 BF\n",
            "  28 conv    512       3 x 3/ 1     13 x  13 x 256 ->   13 x  13 x 512 0.399 BF\n",
            "  29 conv     21       1 x 1/ 1     13 x  13 x 512 ->   13 x  13 x  21 0.004 BF\n",
            "  30 yolo\n",
            "[yolo] params: iou loss: ciou (4), iou_norm: 0.07, obj_norm: 1.00, cls_norm: 1.00, delta_norm: 1.00, scale_x_y: 1.05\n",
            "nms_kind: greedynms (1), beta = 0.600000 \n",
            "  31 route  27 \t\t                           ->   13 x  13 x 256 \n",
            "  32 conv    128       1 x 1/ 1     13 x  13 x 256 ->   13 x  13 x 128 0.011 BF\n",
            "  33 upsample                 2x    13 x  13 x 128 ->   26 x  26 x 128\n",
            "  34 route  33 23 \t                           ->   26 x  26 x 384 \n",
            "  35 conv    256       3 x 3/ 1     26 x  26 x 384 ->   26 x  26 x 256 1.196 BF\n",
            "  36 conv     21       1 x 1/ 1     26 x  26 x 256 ->   26 x  26 x  21 0.007 BF\n",
            "  37 yolo\n",
            "[yolo] params: iou loss: ciou (4), iou_norm: 0.07, obj_norm: 1.00, cls_norm: 1.00, delta_norm: 1.00, scale_x_y: 1.05\n",
            "nms_kind: greedynms (1), beta = 0.600000 \n",
            "Total BFLOPS 6.789 \n",
            "avg_outputs = 299797 \n",
            "Loading weights from yolov4-tiny.conv.29...\n",
            " seen 64, trained: 0 K-images (0 Kilo-batches_64) \n",
            "Done! Loaded 29 layers from weights-file \n",
            "saveweights: Using default '1000'\n",
            "savelast: Using default '100'\n",
            "Weights are saved after: 1000 iterations. Last weights (*_last.weight) are stored every 100 iterations. \n",
            "Learning Rate: 0.00261, Momentum: 0.9, Decay: 0.0005\n",
            " Detection layer: 30 - type = 28 \n",
            " Detection layer: 37 - type = 28 \n",
            "Couldn't open file: data/train.txt\n"
          ]
        }
      ]
    },
    {
      "cell_type": "markdown",
      "source": [
        "Test the model on custom images"
      ],
      "metadata": {
        "id": "7rUNK3ysdGM5"
      }
    },
    {
      "cell_type": "code",
      "source": [
        "# Cell 7: Test the Model on Custom Images\n",
        "from torch_snippets import Glob, stem, show, read\n",
        "import os\n",
        "\n",
        "# Create a directory for custom images\n",
        "!mkdir -p custom_images\n",
        "\n",
        "# TODO: Upload your images to the 'custom_images' directory\n",
        "\n",
        "image_paths = Glob('custom_images/*')\n",
        "for f in image_paths:\n",
        "    !./darknet/darknet detector test data/obj.data cfg/yolov4-tiny-bus-trucks.cfg \\\n",
        "    backup/yolov4-tiny-bus-trucks_4000.weights {f} -dont_show\n",
        "    !mv predictions.jpg {os.path.splitext(f)[0]}_pred.jpg\n",
        "\n",
        "for i in Glob('custom_images/*_pred.jpg', silent=True):\n",
        "    show(read(i, 1), sz=20)"
      ],
      "metadata": {
        "id": "Ro9z5CpMahUk"
      },
      "execution_count": 37,
      "outputs": []
    },
    {
      "cell_type": "code",
      "source": [],
      "metadata": {
        "id": "ujR6tjZHbQLu"
      },
      "execution_count": null,
      "outputs": []
    }
  ]
}