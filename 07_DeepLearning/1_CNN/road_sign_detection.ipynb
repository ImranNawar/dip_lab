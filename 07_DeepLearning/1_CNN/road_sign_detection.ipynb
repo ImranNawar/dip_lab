{
  "cells": [
    {
      "cell_type": "markdown",
      "metadata": {
        "id": "HTt69fR7Cmqn"
      },
      "source": [
        "**Road Sign Detection**\n",
        "\n",
        "Understanding the impact of data augmentation and batch normalization."
      ]
    },
    {
      "cell_type": "code",
      "execution_count": 3,
      "metadata": {
        "id": "dPJ3Gd5PCbP3"
      },
      "outputs": [],
      "source": [
        "import os\n",
        "import torch\n",
        "import torch.nn as nn\n",
        "from torch_snippets import *\n",
        "from torchvision import transforms as T\n",
        "from google.colab import files"
      ]
    },
    {
      "cell_type": "code",
      "execution_count": 2,
      "metadata": {
        "colab": {
          "base_uri": "https://localhost:8080/"
        },
        "id": "Dh2YTecEZeyv",
        "outputId": "9ea1804d-8ff4-46e1-c166-eb1c95ed42a1"
      },
      "outputs": [
        {
          "name": "stdout",
          "output_type": "stream",
          "text": [
            "\u001b[?25l     \u001b[90m━━━━━━━━━━━━━━━━━━━━━━━━━━━━━━━━━━━━━━━━\u001b[0m \u001b[32m0.0/78.6 kB\u001b[0m \u001b[31m?\u001b[0m eta \u001b[36m-:--:--\u001b[0m\r\u001b[2K     \u001b[90m━━━━━━━━━━━━━━━━━━━━━━━━━━━━━━━━━━━━━━━━\u001b[0m \u001b[32m78.6/78.6 kB\u001b[0m \u001b[31m7.1 MB/s\u001b[0m eta \u001b[36m0:00:00\u001b[0m\n",
            "\u001b[?25h  Preparing metadata (setup.py) ... \u001b[?25l\u001b[?25hdone\n",
            "\u001b[2K   \u001b[90m━━━━━━━━━━━━━━━━━━━━━━━━━━━━━━━━━━━━━━━━\u001b[0m \u001b[32m94.8/94.8 kB\u001b[0m \u001b[31m9.0 MB/s\u001b[0m eta \u001b[36m0:00:00\u001b[0m\n",
            "\u001b[2K   \u001b[90m━━━━━━━━━━━━━━━━━━━━━━━━━━━━━━━━━━━━━━━━\u001b[0m \u001b[32m116.3/116.3 kB\u001b[0m \u001b[31m12.0 MB/s\u001b[0m eta \u001b[36m0:00:00\u001b[0m\n",
            "\u001b[2K   \u001b[90m━━━━━━━━━━━━━━━━━━━━━━━━━━━━━━━━━━━━━━━━\u001b[0m \u001b[32m62.5/62.5 kB\u001b[0m \u001b[31m6.8 MB/s\u001b[0m eta \u001b[36m0:00:00\u001b[0m\n",
            "\u001b[2K   \u001b[90m━━━━━━━━━━━━━━━━━━━━━━━━━━━━━━━━━━━━━━━━\u001b[0m \u001b[32m204.6/204.6 kB\u001b[0m \u001b[31m21.2 MB/s\u001b[0m eta \u001b[36m0:00:00\u001b[0m\n",
            "\u001b[2K   \u001b[90m━━━━━━━━━━━━━━━━━━━━━━━━━━━━━━━━━━━━━━━━\u001b[0m \u001b[32m3.5/3.5 MB\u001b[0m \u001b[31m94.3 MB/s\u001b[0m eta \u001b[36m0:00:00\u001b[0m\n",
            "\u001b[2K   \u001b[90m━━━━━━━━━━━━━━━━━━━━━━━━━━━━━━━━━━━━━━━━\u001b[0m \u001b[32m15.9/15.9 MB\u001b[0m \u001b[31m99.4 MB/s\u001b[0m eta \u001b[36m0:00:00\u001b[0m\n",
            "\u001b[2K   \u001b[90m━━━━━━━━━━━━━━━━━━━━━━━━━━━━━━━━━━━━━━━━\u001b[0m \u001b[32m177.4/177.4 kB\u001b[0m \u001b[31m18.3 MB/s\u001b[0m eta \u001b[36m0:00:00\u001b[0m\n",
            "\u001b[2K   \u001b[90m━━━━━━━━━━━━━━━━━━━━━━━━━━━━━━━━━━━━━━━━\u001b[0m \u001b[32m99.0/99.0 kB\u001b[0m \u001b[31m10.6 MB/s\u001b[0m eta \u001b[36m0:00:00\u001b[0m\n",
            "\u001b[2K   \u001b[90m━━━━━━━━━━━━━━━━━━━━━━━━━━━━━━━━━━━━━━━━\u001b[0m \u001b[32m5.7/5.7 MB\u001b[0m \u001b[31m112.7 MB/s\u001b[0m eta \u001b[36m0:00:00\u001b[0m\n",
            "\u001b[2K   \u001b[90m━━━━━━━━━━━━━━━━━━━━━━━━━━━━━━━━━━━━━━━━\u001b[0m \u001b[32m468.9/468.9 kB\u001b[0m \u001b[31m42.8 MB/s\u001b[0m eta \u001b[36m0:00:00\u001b[0m\n",
            "\u001b[2K   \u001b[90m━━━━━━━━━━━━━━━━━━━━━━━━━━━━━━━━━━━━━━━━\u001b[0m \u001b[32m3.4/3.4 MB\u001b[0m \u001b[31m105.5 MB/s\u001b[0m eta \u001b[36m0:00:00\u001b[0m\n",
            "\u001b[?25h  Building wheel for typing (setup.py) ... \u001b[?25l\u001b[?25hdone\n"
          ]
        }
      ],
      "source": [
        "!pip install -qq torch_snippets"
      ]
    },
    {
      "cell_type": "code",
      "execution_count": 4,
      "metadata": {
        "id": "M1G3LxhGHC0J"
      },
      "outputs": [],
      "source": [
        "device = 'cuda' if torch.cuda.is_available() else 'cpu'"
      ]
    },
    {
      "cell_type": "code",
      "execution_count": 6,
      "metadata": {
        "colab": {
          "base_uri": "https://localhost:8080/"
        },
        "id": "IsJTkYStC9PO",
        "outputId": "9ed90835-8436-4095-93d4-4bf6b0b09291"
      },
      "outputs": [
        {
          "name": "stdout",
          "output_type": "stream",
          "text": [
            "--2024-08-16 08:58:29--  https://raw.githubusercontent.com/georgesung/traffic_sign_classification_german/master/signnames.csv\n",
            "Resolving raw.githubusercontent.com (raw.githubusercontent.com)... 185.199.108.133, 185.199.109.133, 185.199.110.133, ...\n",
            "Connecting to raw.githubusercontent.com (raw.githubusercontent.com)|185.199.108.133|:443... connected.\n",
            "HTTP request sent, awaiting response... 200 OK\n",
            "Length: 999 [text/plain]\n",
            "Saving to: ‘signnames.csv’\n",
            "\n",
            "\rsignnames.csv         0%[                    ]       0  --.-KB/s               \rsignnames.csv       100%[===================>]     999  --.-KB/s    in 0s      \n",
            "\n",
            "2024-08-16 08:58:29 (66.0 MB/s) - ‘signnames.csv’ saved [999/999]\n",
            "\n"
          ]
        }
      ],
      "source": [
        "if not os.path.exists('GTSRB'):\n",
        "  !wget -qq https://sid.erda.dk/public/archives/daaeac0d7ce1152aea9b61d9f1e19370/GTSRB_Final_Training_Images.zip\n",
        "  !wget -qq https://sid.erda.dk/public/archives/daaeac0d7ce1152aea9b61d9f1e19370/GTSRB_Final_Test_Images.zip\n",
        "\n",
        "  !unzip -q GTSRB_Final_Training_Images.zip\n",
        "  !unzip -q GTSRB_Final_Test_Images.zip\n",
        "\n",
        "  !wget https://raw.githubusercontent.com/georgesung/traffic_sign_classification_german/master/signnames.csv\n",
        "  !rm GTSRB_Final_Training_Images.zip GTSRB_Final_Test_Images.zip"
      ]
    },
    {
      "cell_type": "markdown",
      "metadata": {
        "id": "4e_L5GcFEBzw"
      },
      "source": [
        "**Assign class IDs to possible output classes**"
      ]
    },
    {
      "cell_type": "code",
      "execution_count": 7,
      "metadata": {
        "id": "uOmmXFSgEH5W"
      },
      "outputs": [],
      "source": [
        "classIds = pd.read_csv('signnames.csv')\n",
        "classIds.set_index('ClassId', inplace=True)\n",
        "classIds = classIds.to_dict()['SignName']\n",
        "classIds = {f'{k:05d}':v for k,v in classIds.items()}\n",
        "id2int = {v:ix for ix,(k,v) in enumerate(classIds.items())}"
      ]
    },
    {
      "cell_type": "code",
      "execution_count": 8,
      "metadata": {
        "colab": {
          "base_uri": "https://localhost:8080/"
        },
        "id": "qVF7SFm2aZGl",
        "outputId": "f20e00a0-f253-4eb1-b41d-b5d166cf7b2c"
      },
      "outputs": [
        {
          "data": {
            "text/plain": [
              "{'00000': 'Speed limit (20km/h)',\n",
              " '00001': 'Speed limit (30km/h)',\n",
              " '00002': 'Speed limit (50km/h)',\n",
              " '00003': 'Speed limit (60km/h)',\n",
              " '00004': 'Speed limit (70km/h)',\n",
              " '00005': 'Speed limit (80km/h)',\n",
              " '00006': 'End of speed limit (80km/h)',\n",
              " '00007': 'Speed limit (100km/h)',\n",
              " '00008': 'Speed limit (120km/h)',\n",
              " '00009': 'No passing',\n",
              " '00010': 'No passing for vechiles over 3.5 metric tons',\n",
              " '00011': 'Right-of-way at the next intersection',\n",
              " '00012': 'Priority road',\n",
              " '00013': 'Yield',\n",
              " '00014': 'Stop',\n",
              " '00015': 'No vechiles',\n",
              " '00016': 'Vechiles over 3.5 metric tons prohibited',\n",
              " '00017': 'No entry',\n",
              " '00018': 'General caution',\n",
              " '00019': 'Dangerous curve to the left',\n",
              " '00020': 'Dangerous curve to the right',\n",
              " '00021': 'Double curve',\n",
              " '00022': 'Bumpy road',\n",
              " '00023': 'Slippery road',\n",
              " '00024': 'Road narrows on the right',\n",
              " '00025': 'Road work',\n",
              " '00026': 'Traffic signals',\n",
              " '00027': 'Pedestrians',\n",
              " '00028': 'Children crossing',\n",
              " '00029': 'Bicycles crossing',\n",
              " '00030': 'Beware of ice/snow',\n",
              " '00031': 'Wild animals crossing',\n",
              " '00032': 'End of all speed and passing limits',\n",
              " '00033': 'Turn right ahead',\n",
              " '00034': 'Turn left ahead',\n",
              " '00035': 'Ahead only',\n",
              " '00036': 'Go straight or right',\n",
              " '00037': 'Go straight or left',\n",
              " '00038': 'Keep right',\n",
              " '00039': 'Keep left',\n",
              " '00040': 'Roundabout mandatory',\n",
              " '00041': 'End of no passing',\n",
              " '00042': 'End of no passing by vechiles over 3.5 metric tons'}"
            ]
          },
          "execution_count": 8,
          "metadata": {},
          "output_type": "execute_result"
        }
      ],
      "source": [
        "classIds"
      ]
    },
    {
      "cell_type": "markdown",
      "metadata": {
        "id": "xyRVTbnuEgoR"
      },
      "source": [
        "**Transformation Pipeline on top of images without any augmentation**"
      ]
    },
    {
      "cell_type": "code",
      "execution_count": 9,
      "metadata": {
        "id": "0WUmonAQEpfc"
      },
      "outputs": [],
      "source": [
        "trn_tfms = T.Compose([\n",
        "    T.ToPILImage(),\n",
        "    T.Resize(32),\n",
        "    T.CenterCrop(32),\n",
        "    # T.ColorJitter(brightness=(0.8,1.2),\n",
        "    # contrast=(0.8,1.2),\n",
        "    # saturation=(0.8,1.2),\n",
        "    # hue=0.25),\n",
        "    # T.RandomAffine(5, translate=(0.01,0.1)),\n",
        "    T.ToTensor(),\n",
        "    T.Normalize(mean=[0.485, 0.456, 0.406],\n",
        "    std=[0.229, 0.224, 0.225]),\n",
        " ])\n",
        "\n",
        "val_tfms = T.Compose([\n",
        "    T.ToPILImage(),\n",
        "    T.Resize(32),\n",
        "    T.CenterCrop(32),\n",
        "    T.ToTensor(),\n",
        "    T.Normalize(mean=[0.485, 0.456, 0.406],\n",
        "    std=[0.229, 0.224, 0.225]),\n",
        " ])\n",
        "\n",
        "# The commented part of the code is what should be uncomment and re-run to understand the scenrio of performing data augmentation."
      ]
    },
    {
      "cell_type": "markdown",
      "metadata": {
        "id": "xgzjODS9Gx4r"
      },
      "source": [
        "**Dataset class**"
      ]
    },
    {
      "cell_type": "code",
      "execution_count": 10,
      "metadata": {
        "id": "IzSynPbrGz4S"
      },
      "outputs": [],
      "source": [
        "class GTSRB(Dataset):\n",
        "    \"\"\"Face Landmarks dataset.\"\"\"\n",
        "\n",
        "    def __init__(self, files, transform=None):\n",
        "        self.files = files\n",
        "        self.transform = transform\n",
        "        logger.info(len(self))\n",
        "\n",
        "    def __len__(self):\n",
        "        return len(self.files)\n",
        "\n",
        "    def __getitem__(self, ix):\n",
        "        fpath = self.files[ix]\n",
        "        clss = fname(parent(fpath))\n",
        "        img = read(fpath, 1)\n",
        "        return img, classIds[clss]\n",
        "\n",
        "    def choose(self):\n",
        "        return self[randint(len(self))]\n",
        "\n",
        "    def collate_fn(self, batch):\n",
        "        imgs, classes = list(zip(*batch))\n",
        "        if self.transform:\n",
        "            imgs = [self.transform(img)[None] for img in imgs]\n",
        "        classes = [torch.tensor([id2int[clss]]) for clss in classes]\n",
        "        imgs, classes = [torch.cat(i).to(device) for i in [imgs, classes]]\n",
        "        return imgs, classes"
      ]
    },
    {
      "cell_type": "markdown",
      "metadata": {
        "id": "VL_E6WbIG5sb"
      },
      "source": [
        "**Create training and validation datasets and dataloader**"
      ]
    },
    {
      "cell_type": "code",
      "execution_count": 11,
      "metadata": {
        "colab": {
          "base_uri": "https://localhost:8080/",
          "height": 85
        },
        "id": "s8lX76q_G_Uy",
        "outputId": "d4ffc9d3-9b69-4267-931a-986c02f7cfad"
      },
      "outputs": [
        {
          "data": {
            "text/html": [
              "<pre style=\"white-space:pre;overflow-x:auto;line-height:normal;font-family:Menlo,'DejaVu Sans Mono',consolas,'Courier New',monospace\"><span style=\"color: #7fbfbf; text-decoration-color: #7fbfbf\">[08/16/24 08:59:58] </span><span style=\"color: #bfbf7f; text-decoration-color: #bfbf7f\">INFO    </span> <span style=\"color: #008080; text-decoration-color: #008080; font-weight: bold\">29406</span>                                                                                                <a href=\"file://<ipython-input-10-3b18c3e53228>:7\" target=\"_blank\"><span style=\"color: #7f7f7f; text-decoration-color: #7f7f7f\">&lt;ipython-input-10-3b18c3e53228&gt;</span></a><span style=\"color: #7f7f7f; text-decoration-color: #7f7f7f\">:</span><a href=\"file://<ipython-input-10-3b18c3e53228>:7#__init__:7\" target=\"_blank\"><span style=\"color: #7f7f7f; text-decoration-color: #7f7f7f\">__init__:7</span></a>\n",
              "</pre>\n"
            ],
            "text/plain": [
              "\u001b[2;36m[08/16/24 08:59:58]\u001b[0m\u001b[2;36m \u001b[0m\u001b[2;33mINFO    \u001b[0m \u001b[1;36m29406\u001b[0m                                                                                                \u001b]8;id=658732;file://<ipython-input-10-3b18c3e53228>:7\u001b\\\u001b[2m<ipython-input-10-3b18c3e53228>\u001b[0m\u001b]8;;\u001b\\\u001b[2m:\u001b[0m\u001b]8;id=660842;file://<ipython-input-10-3b18c3e53228>:7#__init__:7\u001b\\\u001b[2m__init__:7\u001b[0m\u001b]8;;\u001b\\\n"
            ]
          },
          "metadata": {},
          "output_type": "display_data"
        },
        {
          "data": {
            "text/html": [
              "<pre style=\"white-space:pre;overflow-x:auto;line-height:normal;font-family:Menlo,'DejaVu Sans Mono',consolas,'Courier New',monospace\"><span style=\"color: #7fbfbf; text-decoration-color: #7fbfbf\">                    </span><span style=\"color: #bfbf7f; text-decoration-color: #bfbf7f\">INFO    </span> <span style=\"color: #008080; text-decoration-color: #008080; font-weight: bold\">9803</span>                                                                                                 <a href=\"file://<ipython-input-10-3b18c3e53228>:7\" target=\"_blank\"><span style=\"color: #7f7f7f; text-decoration-color: #7f7f7f\">&lt;ipython-input-10-3b18c3e53228&gt;</span></a><span style=\"color: #7f7f7f; text-decoration-color: #7f7f7f\">:</span><a href=\"file://<ipython-input-10-3b18c3e53228>:7#__init__:7\" target=\"_blank\"><span style=\"color: #7f7f7f; text-decoration-color: #7f7f7f\">__init__:7</span></a>\n",
              "</pre>\n"
            ],
            "text/plain": [
              "\u001b[2;36m                   \u001b[0m\u001b[2;36m \u001b[0m\u001b[2;33mINFO    \u001b[0m \u001b[1;36m9803\u001b[0m                                                                                                 \u001b]8;id=267401;file://<ipython-input-10-3b18c3e53228>:7\u001b\\\u001b[2m<ipython-input-10-3b18c3e53228>\u001b[0m\u001b]8;;\u001b\\\u001b[2m:\u001b[0m\u001b]8;id=439178;file://<ipython-input-10-3b18c3e53228>:7#__init__:7\u001b\\\u001b[2m__init__:7\u001b[0m\u001b]8;;\u001b\\\n"
            ]
          },
          "metadata": {},
          "output_type": "display_data"
        }
      ],
      "source": [
        "all_files = Glob('GTSRB/Final_Training/Images/*/*.ppm')\n",
        "np.random.seed(10)\n",
        "np.random.shuffle(all_files)\n",
        "\n",
        "from sklearn.model_selection import train_test_split\n",
        "trn_files, val_files = train_test_split(all_files, random_state=1)\n",
        "\n",
        "trn_ds = GTSRB(trn_files, transform=trn_tfms)\n",
        "val_ds = GTSRB(val_files, transform=val_tfms)\n",
        "trn_dl = DataLoader(trn_ds, 32, shuffle=True, collate_fn=trn_ds.collate_fn)\n",
        "val_dl = DataLoader(val_ds, 32, shuffle=False, collate_fn=val_ds.collate_fn)"
      ]
    },
    {
      "cell_type": "code",
      "execution_count": 13,
      "metadata": {
        "colab": {
          "base_uri": "https://localhost:8080/"
        },
        "id": "Vd9fmSaMalrz",
        "outputId": "2c288937-6072-48f2-8945-e2e092128713"
      },
      "outputs": [
        {
          "name": "stdout",
          "output_type": "stream",
          "text": [
            "Total images: 39209, training Images: 29406, Testing Images: 9803\n"
          ]
        }
      ],
      "source": [
        "print(f'Total images: {len(all_files)}, training Images: {len(trn_ds)}, Testing Images: {len(val_ds)}')"
      ]
    },
    {
      "cell_type": "markdown",
      "metadata": {
        "id": "ZI9TVOxmHVHP"
      },
      "source": [
        "**Define the model**"
      ]
    },
    {
      "cell_type": "code",
      "execution_count": 14,
      "metadata": {
        "id": "JjeJS9ybHYwg"
      },
      "outputs": [],
      "source": [
        "def convBlock(ni, no):\n",
        "    return nn.Sequential(\n",
        "        nn.Dropout(0.2),\n",
        "        nn.Conv2d(ni, no, kernel_size=3, padding=1),\n",
        "        nn.ReLU(inplace=True),\n",
        "        #nn.BatchNorm2d(no),\n",
        "        nn.MaxPool2d(2),\n",
        "    )\n",
        "\n",
        "class SignClassifier(nn.Module):\n",
        "    def __init__(self):\n",
        "        super().__init__()\n",
        "        self.model = nn.Sequential(\n",
        "            convBlock(3, 64),\n",
        "            convBlock(64, 64),\n",
        "            convBlock(64, 128),\n",
        "            convBlock(128, 64),\n",
        "            nn.Flatten(),\n",
        "            nn.Linear(256, 256),\n",
        "            nn.Dropout(0.2),\n",
        "            nn.ReLU(inplace=True),\n",
        "            nn.Linear(256, len(id2int))\n",
        "        )\n",
        "        self.loss_fn = nn.CrossEntropyLoss()\n",
        "\n",
        "    def forward(self, x):\n",
        "        return self.model(x)\n",
        "\n",
        "    def compute_metrics(self, preds, targets):\n",
        "        ce_loss = self.loss_fn(preds, targets)\n",
        "        acc = (torch.max(preds, 1)[1] == targets).float().mean()\n",
        "        return ce_loss, acc\n",
        "\n",
        "# Make sure to uncomment the line in bold when testing the model with the BatchNormalization scenario."
      ]
    },
    {
      "cell_type": "markdown",
      "metadata": {
        "id": "LhiMpLivICDK"
      },
      "source": [
        "**Functions to train and validate on a batch of data**"
      ]
    },
    {
      "cell_type": "code",
      "execution_count": 15,
      "metadata": {
        "id": "BrfWZ7elIGhD"
      },
      "outputs": [],
      "source": [
        "def train_batch(model, data, optimizer, criterion):\n",
        "    ims, labels = data\n",
        "    _preds = model(ims)\n",
        "    optimizer.zero_grad()\n",
        "    loss, acc = criterion(_preds, labels)\n",
        "    loss.backward()\n",
        "    optimizer.step()\n",
        "    return loss.item(), acc.item()\n",
        "\n",
        "@torch.no_grad()\n",
        "def validate_batch(model, data, criterion):\n",
        "    ims, labels = data\n",
        "    _preds = model(ims)\n",
        "    loss, acc = criterion(_preds, labels)\n",
        "    return loss.item(), acc.item()"
      ]
    },
    {
      "cell_type": "markdown",
      "metadata": {
        "id": "f6rTddQAINcb"
      },
      "source": [
        "**Model Training over increasing epochs**"
      ]
    },
    {
      "cell_type": "code",
      "execution_count": 16,
      "metadata": {
        "colab": {
          "base_uri": "https://localhost:8080/",
          "height": 1000
        },
        "id": "1oHtxEgYIRTg",
        "outputId": "39bdbaf0-fa7f-41ff-f27c-e22359f5267d"
      },
      "outputs": [
        {
          "name": "stdout",
          "output_type": "stream",
          "text": [
            "EPOCH: 1.000  val_acc: 0.518  val_loss: 1.478  trn_acc: 0.310  trn_loss: 2.341  (37.98s - 1861.05s remaining)\n",
            "EPOCH: 2.000  val_acc: 0.719  val_loss: 0.861  trn_acc: 0.628  trn_loss: 1.128  (74.04s - 1776.88s remaining)\n",
            "EPOCH: 3.000  val_acc: 0.766  val_loss: 0.709  trn_acc: 0.749  trn_loss: 0.757  (102.07s - 1599.15s remaining)\n",
            "EPOCH: 4.000  val_acc: 0.815  val_loss: 0.569  trn_acc: 0.796  trn_loss: 0.612  (126.59s - 1455.84s remaining)\n",
            "EPOCH: 5.000  val_acc: 0.841  val_loss: 0.488  trn_acc: 0.823  trn_loss: 0.534  (153.83s - 1384.44s remaining)\n",
            "EPOCH: 6.000  val_acc: 0.850  val_loss: 0.468  trn_acc: 0.845  trn_loss: 0.470  (179.78s - 1318.36s remaining)\n",
            "EPOCH: 7.000  val_acc: 0.870  val_loss: 0.404  trn_acc: 0.860  trn_loss: 0.426  (208.19s - 1278.88s remaining)\n",
            "EPOCH: 8.000  val_acc: 0.864  val_loss: 0.415  trn_acc: 0.867  trn_loss: 0.407  (232.97s - 1223.10s remaining)\n",
            "EPOCH: 9.000  val_acc: 0.855  val_loss: 0.455  trn_acc: 0.876  trn_loss: 0.371  (259.24s - 1180.98s remaining)\n",
            "EPOCH: 10.000  val_acc: 0.873  val_loss: 0.398  trn_acc: 0.886  trn_loss: 0.348  (284.33s - 1137.31s remaining)\n",
            "EPOCH: 11.000  val_acc: 0.891  val_loss: 0.352  trn_acc: 0.885  trn_loss: 0.348  (309.38s - 1096.88s remaining)\n",
            "EPOCH: 12.000  val_acc: 0.913  val_loss: 0.281  trn_acc: 0.918  trn_loss: 0.242  (334.79s - 1060.16s remaining)\n",
            "EPOCH: 13.000  val_acc: 0.920  val_loss: 0.238  trn_acc: 0.929  trn_loss: 0.215  (360.87s - 1027.08s remaining)\n",
            "EPOCH: 14.000  val_acc: 0.925  val_loss: 0.237  trn_acc: 0.930  trn_loss: 0.204  (386.20s - 993.09s remaining)\n",
            "EPOCH: 15.000  val_acc: 0.923  val_loss: 0.234  trn_acc: 0.932  trn_loss: 0.201  (411.63s - 960.47s remaining)\n",
            "EPOCH: 16.000  val_acc: 0.930  val_loss: 0.221  trn_acc: 0.934  trn_loss: 0.194  (436.64s - 927.87s remaining)\n",
            "EPOCH: 17.000  val_acc: 0.929  val_loss: 0.225  trn_acc: 0.938  trn_loss: 0.186  (462.06s - 896.95s remaining)\n",
            "EPOCH: 18.000  val_acc: 0.931  val_loss: 0.217  trn_acc: 0.938  trn_loss: 0.181  (486.86s - 865.53s remaining)\n",
            "EPOCH: 19.000  val_acc: 0.933  val_loss: 0.213  trn_acc: 0.939  trn_loss: 0.181  (511.85s - 835.12s remaining)\n",
            "EPOCH: 20.000  val_acc: 0.931  val_loss: 0.211  trn_acc: 0.942  trn_loss: 0.176  (536.98s - 805.48s remaining)\n",
            "EPOCH: 21.000  val_acc: 0.934  val_loss: 0.203  trn_acc: 0.943  trn_loss: 0.168  (562.80s - 777.20s remaining)\n",
            "EPOCH: 22.000  val_acc: 0.932  val_loss: 0.210  trn_acc: 0.944  trn_loss: 0.167  (588.14s - 748.54s remaining)\n",
            "EPOCH: 23.000  val_acc: 0.934  val_loss: 0.209  trn_acc: 0.946  trn_loss: 0.162  (613.56s - 720.27s remaining)\n",
            "EPOCH: 24.000  val_acc: 0.935  val_loss: 0.198  trn_acc: 0.944  trn_loss: 0.165  (638.97s - 692.21s remaining)\n",
            "EPOCH: 25.000  val_acc: 0.935  val_loss: 0.195  trn_acc: 0.947  trn_loss: 0.158  (664.32s - 664.32s remaining)\n",
            "EPOCH: 26.000  val_acc: 0.935  val_loss: 0.205  trn_acc: 0.946  trn_loss: 0.159  (689.90s - 636.83s remaining)\n",
            "EPOCH: 27.000  val_acc: 0.938  val_loss: 0.192  trn_acc: 0.948  trn_loss: 0.153  (715.28s - 609.32s remaining)\n",
            "EPOCH: 28.000  val_acc: 0.940  val_loss: 0.190  trn_acc: 0.950  trn_loss: 0.151  (741.69s - 582.75s remaining)\n",
            "EPOCH: 29.000  val_acc: 0.941  val_loss: 0.190  trn_acc: 0.949  trn_loss: 0.150  (766.23s - 554.86s remaining)\n",
            "EPOCH: 30.000  val_acc: 0.940  val_loss: 0.183  trn_acc: 0.950  trn_loss: 0.148  (790.46s - 526.98s remaining)\n",
            "EPOCH: 31.000  val_acc: 0.943  val_loss: 0.183  trn_acc: 0.953  trn_loss: 0.145  (814.84s - 499.42s remaining)\n",
            "EPOCH: 32.000  val_acc: 0.945  val_loss: 0.178  trn_acc: 0.951  trn_loss: 0.145  (840.25s - 472.64s remaining)\n",
            "EPOCH: 33.000  val_acc: 0.938  val_loss: 0.185  trn_acc: 0.952  trn_loss: 0.143  (865.21s - 445.72s remaining)\n",
            "EPOCH: 34.000  val_acc: 0.946  val_loss: 0.164  trn_acc: 0.951  trn_loss: 0.145  (890.01s - 418.83s remaining)\n",
            "EPOCH: 35.000  val_acc: 0.946  val_loss: 0.168  trn_acc: 0.955  trn_loss: 0.134  (914.65s - 391.99s remaining)\n",
            "EPOCH: 36.000  val_acc: 0.948  val_loss: 0.163  trn_acc: 0.955  trn_loss: 0.129  (940.26s - 365.66s remaining)\n",
            "EPOCH: 37.000  val_acc: 0.948  val_loss: 0.161  trn_acc: 0.954  trn_loss: 0.136  (964.85s - 339.00s remaining)\n",
            "EPOCH: 38.000  val_acc: 0.946  val_loss: 0.166  trn_acc: 0.956  trn_loss: 0.130  (989.60s - 312.51s remaining)\n",
            "EPOCH: 39.000  val_acc: 0.946  val_loss: 0.176  trn_acc: 0.955  trn_loss: 0.132  (1014.31s - 286.09s remaining)\n",
            "EPOCH: 40.000  val_acc: 0.945  val_loss: 0.170  trn_acc: 0.956  trn_loss: 0.126  (1039.75s - 259.94s remaining)\n",
            "EPOCH: 41.000  val_acc: 0.947  val_loss: 0.171  trn_acc: 0.957  trn_loss: 0.129  (1064.62s - 233.70s remaining)\n",
            "EPOCH: 42.000  val_acc: 0.947  val_loss: 0.168  trn_acc: 0.959  trn_loss: 0.124  (1089.87s - 207.59s remaining)\n",
            "EPOCH: 43.000  val_acc: 0.949  val_loss: 0.166  trn_acc: 0.959  trn_loss: 0.120  (1115.27s - 181.56s remaining)\n",
            "EPOCH: 44.000  val_acc: 0.948  val_loss: 0.166  trn_acc: 0.959  trn_loss: 0.122  (1141.68s - 155.68s remaining)\n",
            "EPOCH: 45.000  val_acc: 0.947  val_loss: 0.159  trn_acc: 0.957  trn_loss: 0.124  (1166.55s - 129.62s remaining)\n",
            "EPOCH: 46.000  val_acc: 0.952  val_loss: 0.155  trn_acc: 0.959  trn_loss: 0.122  (1192.00s - 103.65s remaining)\n",
            "EPOCH: 47.000  val_acc: 0.952  val_loss: 0.153  trn_acc: 0.960  trn_loss: 0.119  (1217.45s - 77.71s remaining)\n",
            "EPOCH: 48.000  val_acc: 0.952  val_loss: 0.154  trn_acc: 0.961  trn_loss: 0.118  (1242.77s - 51.78s remaining)\n",
            "EPOCH: 49.000  val_acc: 0.953  val_loss: 0.153  trn_acc: 0.960  trn_loss: 0.116  (1269.05s - 25.90s remaining)\n",
            "EPOCH: 50.000  val_acc: 0.953  val_loss: 0.151  trn_acc: 0.961  trn_loss: 0.115  (1293.73s - 0.00s remaining)\n"
          ]
        },
        {
          "name": "stderr",
          "output_type": "stream",
          "text": [
            "100%|██████████| 151/151 [00:03<00:00, 39.35it/s]\n"
          ]
        },
        {
          "data": {
            "image/png": "[encoded data removed]",
            "text/plain": [
              "<Figure size 800x600 with 1 Axes>"
            ]
          },
          "metadata": {},
          "output_type": "display_data"
        },
        {
          "data": {
            "text/html": [
              "<pre style=\"white-space:pre;overflow-x:auto;line-height:normal;font-family:Menlo,'DejaVu Sans Mono',consolas,'Courier New',monospace\"><span style=\"color: #7fbfbf; text-decoration-color: #7fbfbf\">[08/16/24 09:24:10] </span><span style=\"color: #bfbf7f; text-decoration-color: #bfbf7f\">INFO    </span> Dumped object of size ≈<span style=\"color: #008080; text-decoration-color: #008080; font-weight: bold\">2</span> MB @ <span style=\"color: #008000; text-decoration-color: #008000\">\"no-aug-no-bn.log\"</span> in <span style=\"color: #008080; text-decoration-color: #008080; font-weight: bold\">2.29e+00</span> seconds                         <a href=\"file://<ipython-input-16-4acfb00f8f41>:22\" target=\"_blank\"><span style=\"color: #7f7f7f; text-decoration-color: #7f7f7f\">&lt;ipython-input-16-4acfb00f8f41&gt;</span></a><span style=\"color: #7f7f7f; text-decoration-color: #7f7f7f\">:&lt;cell line: 22&gt;:22</span>\n",
              "</pre>\n"
            ],
            "text/plain": [
              "\u001b[2;36m[08/16/24 09:24:10]\u001b[0m\u001b[2;36m \u001b[0m\u001b[2;33mINFO    \u001b[0m Dumped object of size ≈\u001b[1;36m2\u001b[0m MB @ \u001b[32m\"no-aug-no-bn.log\"\u001b[0m in \u001b[1;36m2.29e+00\u001b[0m seconds                         \u001b]8;id=655902;file://<ipython-input-16-4acfb00f8f41>:22\u001b\\\u001b[2m<ipython-input-16-4acfb00f8f41>\u001b[0m\u001b]8;;\u001b\\\u001b[2m:\u001b[0m\u001b[2m<cell line: 22>:22\u001b[0m\n"
            ]
          },
          "metadata": {},
          "output_type": "display_data"
        },
        {
          "data": {
            "application/javascript": "\n    async function download(id, filename, size) {\n      if (!google.colab.kernel.accessAllowed) {\n        return;\n      }\n      const div = document.createElement('div');\n      const label = document.createElement('label');\n      label.textContent = `Downloading \"${filename}\": `;\n      div.appendChild(label);\n      const progress = document.createElement('progress');\n      progress.max = size;\n      div.appendChild(progress);\n      document.body.appendChild(div);\n\n      const buffers = [];\n      let downloaded = 0;\n\n      const channel = await google.colab.kernel.comms.open(id);\n      // Send a message to notify the kernel that we're ready.\n      channel.send({})\n\n      for await (const message of channel.messages) {\n        // Send a message to notify the kernel that we're ready.\n        channel.send({})\n        if (message.buffers) {\n          for (const buffer of message.buffers) {\n            buffers.push(buffer);\n            downloaded += buffer.byteLength;\n            progress.value = downloaded;\n          }\n        }\n      }\n      const blob = new Blob(buffers, {type: 'application/binary'});\n      const a = document.createElement('a');\n      a.href = window.URL.createObjectURL(blob);\n      a.download = filename;\n      div.appendChild(a);\n      a.click();\n      div.remove();\n    }\n  ",
            "text/plain": [
              "<IPython.core.display.Javascript object>"
            ]
          },
          "metadata": {},
          "output_type": "display_data"
        },
        {
          "data": {
            "application/javascript": "download(\"download_14545f94-b4b1-45ab-bdb4-9f9ad2b217f7\", \"no-aug-no-bn.log\", 2943379)",
            "text/plain": [
              "<IPython.core.display.Javascript object>"
            ]
          },
          "metadata": {},
          "output_type": "display_data"
        }
      ],
      "source": [
        "model = SignClassifier().to(device)\n",
        "criterion = model.compute_metrics\n",
        "optimizer = optim.Adam(model.parameters(), lr=1e-3)\n",
        "n_epochs = 50\n",
        "\n",
        "log = Report(n_epochs)\n",
        "for ex in range(n_epochs):\n",
        "    N = len(trn_dl)\n",
        "    for bx, data in enumerate(trn_dl):\n",
        "        loss, acc = train_batch(model, data, optimizer, criterion)\n",
        "        log.record(ex+(bx+1)/N, trn_loss=loss, trn_acc=acc, end='\\r')\n",
        "\n",
        "    N = len(val_dl)\n",
        "    for bx, data in enumerate(val_dl):\n",
        "        loss, acc = validate_batch(model, data, criterion)\n",
        "        log.record(ex+(bx+1)/N, val_loss=loss, val_acc=acc, end='\\r')\n",
        "\n",
        "    log.report_avgs(ex+1)\n",
        "    if ex == 10: optimizer = optim.Adam(model.parameters(), lr=1e-4)\n",
        "\n",
        "log.plot_epochs()\n",
        "dumpdill(log, 'no-aug-no-bn.log')\n",
        "files.download('no-aug-no-bn.log')"
      ]
    },
    {
      "cell_type": "markdown",
      "metadata": {
        "id": "D_qp_WEcbMWN"
      },
      "source": [
        "**Save the model weights**"
      ]
    },
    {
      "cell_type": "code",
      "execution_count": 18,
      "metadata": {
        "id": "wKiConG3Iaa6"
      },
      "outputs": [],
      "source": [
        "torch.save(model.state_dict(), 'model_weights.pth')"
      ]
    }
  ],
  "metadata": {
    "accelerator": "GPU",
    "colab": {
      "gpuType": "T4",
      "provenance": []
    },
    "kernelspec": {
      "display_name": "Python 3",
      "name": "python3"
    },
    "language_info": {
      "name": "python"
    }
  },
  "nbformat": 4,
  "nbformat_minor": 0
}
