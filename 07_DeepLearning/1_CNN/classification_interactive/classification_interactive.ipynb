{
 "cells": [
  {
   "cell_type": "markdown",
   "id": "049dccc4",
   "metadata": {},
   "source": [
    "## Interative Classification Tool"
   ]
  },
  {
   "cell_type": "code",
   "execution_count": 1,
   "id": "86f91010",
   "metadata": {},
   "outputs": [],
   "source": [
    "import torch\n",
    "import torchvision\n",
    "import torchvision.transforms as transforms\n",
    "from torchvision.datasets import ImageFolder\n",
    "from torch.utils.data import DataLoader\n",
    "import torch.nn.functional as F\n",
    "import ipywidgets\n",
    "from IPython.display import display, clear_output\n",
    "import cv2\n",
    "import numpy as np\n",
    "import os\n",
    "from PIL import Image\n",
    "import base64\n",
    "import io\n",
    "import threading\n",
    "import time"
   ]
  },
  {
   "cell_type": "code",
   "execution_count": 2,
   "id": "83325958",
   "metadata": {},
   "outputs": [],
   "source": [
    "device = 'cuda' if torch.cuda.is_available() else 'cpu'"
   ]
  },
  {
   "cell_type": "code",
   "execution_count": 3,
   "id": "ec5b3bd6",
   "metadata": {},
   "outputs": [],
   "source": [
    "TASK = 'thumbs'\n",
    "CATEGORIES = ['thumbs_up', 'thumbs_down']\n",
    "DATASETS = ['A', 'B']\n",
    "BATCH_SIZE = 8\n",
    "\n",
    "# Set up transforms\n",
    "TRANSFORMS = transforms.Compose([\n",
    "    transforms.Resize((224, 224)),\n",
    "    transforms.ToTensor(),\n",
    "    transforms.Normalize([0.485, 0.456, 0.406], [0.229, 0.224, 0.225])\n",
    "])"
   ]
  },
  {
   "cell_type": "markdown",
   "id": "67b73600",
   "metadata": {},
   "source": [
    "**Create datasets**"
   ]
  },
  {
   "cell_type": "code",
   "execution_count": null,
   "id": "6efb5bb5",
   "metadata": {},
   "outputs": [
    {
     "name": "stdout",
     "output_type": "stream",
     "text": [
      "No valid images found in thumbs_A. Skipping dataset.\n",
      "No valid images found in thumbs_B. Skipping dataset.\n",
      "No datasets were initialized due to lack of images.\n"
     ]
    }
   ],
   "source": [
    "datasets = {}\n",
    "for name in DATASETS:\n",
    "    dataset_path = f\"{TASK}_{name}\"\n",
    "    \n",
    "    # Create the directories if they don't exist\n",
    "    if not os.path.exists(dataset_path):\n",
    "        os.makedirs(dataset_path)\n",
    "        for category in CATEGORIES:\n",
    "            os.makedirs(os.path.join(dataset_path, category), exist_ok=True)\n",
    "    \n",
    "    # Check if there are any image files in the dataset\n",
    "    has_images = any(\n",
    "        any(file.endswith(('.jpg', '.jpeg', '.png', '.bmp', '.tiff')) \n",
    "            for file in os.listdir(os.path.join(dataset_path, category)))\n",
    "        for category in CATEGORIES\n",
    "    )\n",
    "    \n",
    "    if has_images:\n",
    "        datasets[name] = ImageFolder(dataset_path, transform=TRANSFORMS)\n",
    "        print(f\"Dataset {name} initialized with {len(datasets[name])} images\")\n",
    "    else:\n",
    "        print(f\"No valid images found in {dataset_path}. Skipping dataset.\")\n",
    "\n",
    "# Initialize active dataset\n",
    "if datasets:\n",
    "    dataset = datasets[DATASETS[0]]\n",
    "    print(f\"Active dataset: {DATASETS[0]} with {len(dataset)} images\")\n",
    "else:\n",
    "    dataset = None\n",
    "    print(\"No datasets were initialized due to lack of images.\")"
   ]
  },
  {
   "cell_type": "markdown",
   "id": "c91a11c6",
   "metadata": {},
   "source": [
    "**Create camera widget**"
   ]
  },
  {
   "cell_type": "code",
   "execution_count": null,
   "id": "adc3a52a",
   "metadata": {},
   "outputs": [],
   "source": [
    "class Camera:\n",
    "    def __init__(self):\n",
    "        self.cap = cv2.VideoCapture(0)\n",
    "        self.frame = None\n",
    "        self.stopped = False\n",
    "        \n",
    "    def start(self):\n",
    "        threading.Thread(target=self.update, daemon=True).start()\n",
    "        return self\n",
    "    \n",
    "    def update(self):\n",
    "        while not self.stopped:\n",
    "            ret, frame = self.cap.read()\n",
    "            if ret:\n",
    "                self.frame = cv2.resize(frame, (224, 224))\n",
    "            time.sleep(0.01)  # Small delay to reduce CPU usage\n",
    "    \n",
    "    def read(self):\n",
    "        return self.frame\n",
    "    \n",
    "    def stop(self):\n",
    "        self.stopped = True\n",
    "    \n",
    "    def release(self):\n",
    "        self.stop()\n",
    "        self.cap.release()"
   ]
  },
  {
   "cell_type": "code",
   "execution_count": 6,
   "id": "29a738bc",
   "metadata": {},
   "outputs": [],
   "source": [
    "camera = Camera().start()\n",
    "\n",
    "# Create image preview\n",
    "camera_widget = ipywidgets.Image(format='jpeg')\n",
    "def update_image():\n",
    "    frame = camera.read()\n",
    "    if frame is not None:\n",
    "        _, buffer = cv2.imencode('.jpg', cv2.cvtColor(frame, cv2.COLOR_BGR2RGB))\n",
    "        camera_widget.value = buffer.tobytes()"
   ]
  },
  {
   "cell_type": "code",
   "execution_count": 7,
   "id": "df7fd60e",
   "metadata": {},
   "outputs": [],
   "source": [
    "# Create widgets\n",
    "dataset_widget = ipywidgets.Dropdown(options=DATASETS, description='dataset')\n",
    "category_widget = ipywidgets.Dropdown(options=CATEGORIES, description='category')\n",
    "count_widget = ipywidgets.IntText(description='count')\n",
    "save_widget = ipywidgets.Button(description='add')"
   ]
  },
  {
   "cell_type": "code",
   "execution_count": 8,
   "id": "236a9305",
   "metadata": {},
   "outputs": [],
   "source": [
    "# Function to update datasets\n",
    "def update_datasets():\n",
    "    global dataset, datasets\n",
    "    datasets.clear()  # Clear existing datasets\n",
    "    for name in DATASETS:\n",
    "        dataset_path = f\"{TASK}_{name}\"\n",
    "        if os.path.exists(dataset_path):\n",
    "            try:\n",
    "                new_dataset = ImageFolder(dataset_path, transform=TRANSFORMS)\n",
    "                if len(new_dataset) > 0:\n",
    "                    datasets[name] = new_dataset\n",
    "                    print(f\"Dataset {name} updated with {len(new_dataset)} images\")\n",
    "                else:\n",
    "                    print(f\"Dataset {name} is empty. Skipping.\")\n",
    "            except FileNotFoundError as e:\n",
    "                print(f\"Error loading dataset {name}: {str(e)}\")\n",
    "    \n",
    "    if datasets:\n",
    "        dataset = datasets[dataset_widget.value]\n",
    "        print(f\"Active dataset: {dataset_widget.value} with {len(dataset)} images\")\n",
    "    else:\n",
    "        dataset = None\n",
    "        print(\"No valid datasets available.\")"
   ]
  },
  {
   "cell_type": "code",
   "execution_count": 9,
   "id": "5db36d57",
   "metadata": {},
   "outputs": [],
   "source": [
    "# Function to save image\n",
    "def save(c):\n",
    "    frame = camera.read()\n",
    "    if frame is not None:\n",
    "        dataset_name = dataset_widget.value\n",
    "        category = category_widget.value\n",
    "        dataset_path = f\"{TASK}_{dataset_name}\"\n",
    "        category_path = os.path.join(dataset_path, category)\n",
    "        \n",
    "        # Ensure the category directory exists\n",
    "        os.makedirs(category_path, exist_ok=True)\n",
    "        \n",
    "        path = os.path.join(category_path, f\"{count_widget.value}.jpg\")\n",
    "        cv2.imwrite(path, frame)\n",
    "        count_widget.value += 1\n",
    "        print(f\"Image saved to {path}\")\n",
    "        update_datasets()\n",
    "\n",
    "save_widget.on_click(save)"
   ]
  },
  {
   "cell_type": "code",
   "execution_count": 10,
   "id": "44f984af",
   "metadata": {},
   "outputs": [
    {
     "name": "stderr",
     "output_type": "stream",
     "text": [
      "C:\\Users\\PC\\anaconda3\\Lib\\site-packages\\torchvision\\models\\_utils.py:208: UserWarning: The parameter 'pretrained' is deprecated since 0.13 and may be removed in the future, please use 'weights' instead.\n",
      "  warnings.warn(\n",
      "C:\\Users\\PC\\anaconda3\\Lib\\site-packages\\torchvision\\models\\_utils.py:223: UserWarning: Arguments other than a weight enum or `None` for 'weights' are deprecated since 0.13 and may be removed in the future. The current behavior is equivalent to passing `weights=ResNet18_Weights.IMAGENET1K_V1`. You can also use `weights=ResNet18_Weights.DEFAULT` to get the most up-to-date weights.\n",
      "  warnings.warn(msg)\n"
     ]
    }
   ],
   "source": [
    "# Create data collection widget\n",
    "data_collection_widget = ipywidgets.VBox([\n",
    "    camera_widget, dataset_widget, category_widget, count_widget, save_widget\n",
    "])\n",
    "\n",
    "# Create model\n",
    "model = torchvision.models.resnet18(pretrained=True)\n",
    "model.fc = torch.nn.Linear(512, len(CATEGORIES))\n",
    "model = model.to(device)\n",
    "\n",
    "# Create model widgets\n",
    "model_save_button = ipywidgets.Button(description='save model')\n",
    "model_load_button = ipywidgets.Button(description='load model')\n",
    "model_path_widget = ipywidgets.Text(description='model path', value='my_model.pth')\n",
    "\n",
    "def load_model(c):\n",
    "    model.load_state_dict(torch.load(model_path_widget.value, map_location=device))\n",
    "model_load_button.on_click(load_model)\n",
    "\n",
    "def save_model(c):\n",
    "    torch.save(model.state_dict(), model_path_widget.value)\n",
    "model_save_button.on_click(save_model)\n",
    "\n",
    "model_widget = ipywidgets.VBox([\n",
    "    model_path_widget,\n",
    "    ipywidgets.HBox([model_load_button, model_save_button])\n",
    "])"
   ]
  },
  {
   "cell_type": "code",
   "execution_count": 11,
   "id": "76eb94ab",
   "metadata": {},
   "outputs": [],
   "source": [
    "# Create live execution widgets\n",
    "state_widget = ipywidgets.ToggleButtons(options=['stop', 'live'], description='state', value='stop')\n",
    "prediction_widget = ipywidgets.Text(description='prediction')\n",
    "score_widgets = [ipywidgets.FloatSlider(min=0.0, max=1.0, description=category, orientation='vertical') for category in CATEGORIES]\n",
    "\n",
    "def live():\n",
    "    while state_widget.value == 'live':\n",
    "        frame = camera.read()\n",
    "        if frame is not None:\n",
    "            image = TRANSFORMS(Image.fromarray(cv2.cvtColor(frame, cv2.COLOR_BGR2RGB))).unsqueeze(0).to(device)\n",
    "            output = model(image)\n",
    "            output = F.softmax(output, dim=1).detach().cpu().numpy().flatten()\n",
    "            category_index = output.argmax()\n",
    "            prediction_widget.value = CATEGORIES[category_index]\n",
    "            for i, score in enumerate(output):\n",
    "                score_widgets[i].value = score\n",
    "        time.sleep(0.1)  # Small delay to reduce update frequency\n",
    "\n",
    "state_widget.observe(lambda change: threading.Thread(target=live, daemon=True).start() if change['new'] == 'live' else None, names='value')\n",
    "\n",
    "live_execution_widget = ipywidgets.VBox([\n",
    "    ipywidgets.HBox(score_widgets),\n",
    "    prediction_widget,\n",
    "    state_widget\n",
    "])"
   ]
  },
  {
   "cell_type": "code",
   "execution_count": 12,
   "id": "1dc25ba6",
   "metadata": {},
   "outputs": [],
   "source": [
    "# Create training widgets\n",
    "optimizer = torch.optim.Adam(model.parameters())\n",
    "\n",
    "epochs_widget = ipywidgets.IntText(description='epochs', value=1)\n",
    "eval_button = ipywidgets.Button(description='evaluate')\n",
    "train_button = ipywidgets.Button(description='train')\n",
    "loss_widget = ipywidgets.FloatText(description='loss')\n",
    "accuracy_widget = ipywidgets.FloatText(description='accuracy')\n",
    "progress_widget = ipywidgets.FloatProgress(min=0.0, max=1.0, description='progress')"
   ]
  },
  {
   "cell_type": "code",
   "execution_count": 13,
   "id": "0585547f",
   "metadata": {
    "scrolled": false
   },
   "outputs": [],
   "source": [
    "def train_eval(is_training):\n",
    "    global dataset\n",
    "    update_datasets()  # Refresh datasets before training/evaluation\n",
    "    \n",
    "    if dataset is None or len(dataset) == 0:\n",
    "        print(\"No data available for training/evaluation.\")\n",
    "        return\n",
    "    \n",
    "    train_loader = DataLoader(dataset, batch_size=BATCH_SIZE, shuffle=True)\n",
    "    \n",
    "    if is_training:\n",
    "        model.train()\n",
    "    else:\n",
    "        model.eval()\n",
    "    \n",
    "    for epoch in range(epochs_widget.value):\n",
    "        running_loss = 0.0\n",
    "        correct = 0\n",
    "        total = 0\n",
    "        for i, (images, labels) in enumerate(train_loader):\n",
    "            images, labels = images.to(device), labels.to(device)\n",
    "            \n",
    "            if is_training:\n",
    "                optimizer.zero_grad()\n",
    "            \n",
    "            outputs = model(images)\n",
    "            loss = F.cross_entropy(outputs, labels)\n",
    "            \n",
    "            if is_training:\n",
    "                loss.backward()\n",
    "                optimizer.step()\n",
    "            \n",
    "            running_loss += loss.item()\n",
    "            _, predicted = outputs.max(1)\n",
    "            total += labels.size(0)\n",
    "            correct += predicted.eq(labels).sum().item()\n",
    "            \n",
    "            progress_widget.value = (i + 1) / len(train_loader)\n",
    "            loss_widget.value = running_loss / (i + 1)\n",
    "            accuracy_widget.value = correct / total\n",
    "        \n",
    "        print(f\"Epoch {epoch+1}/{epochs_widget.value} - Loss: {loss_widget.value:.4f}, Accuracy: {accuracy_widget.value:.4f}\")\n",
    "        \n",
    "        if not is_training:\n",
    "            break"
   ]
  },
  {
   "cell_type": "code",
   "execution_count": 14,
   "id": "3035a9e5",
   "metadata": {},
   "outputs": [],
   "source": [
    "train_button.on_click(lambda c: train_eval(is_training=True))\n",
    "eval_button.on_click(lambda c: train_eval(is_training=False))\n",
    "\n",
    "train_eval_widget = ipywidgets.VBox([\n",
    "    epochs_widget,\n",
    "    progress_widget,\n",
    "    loss_widget,\n",
    "    accuracy_widget,\n",
    "    ipywidgets.HBox([train_button, eval_button])\n",
    "])"
   ]
  },
  {
   "cell_type": "code",
   "execution_count": 15,
   "id": "77c7403c",
   "metadata": {},
   "outputs": [
    {
     "data": {
      "application/vnd.jupyter.widget-view+json": {
       "model_id": "a0db4647d8f94e94b3fbe89b3ea03085",
       "version_major": 2,
       "version_minor": 0
      },
      "text/plain": [
       "VBox(children=(HBox(children=(VBox(children=(Image(value=b'', format='jpeg'), Dropdown(description='dataset', …"
      ]
     },
     "metadata": {},
     "output_type": "display_data"
    }
   ],
   "source": [
    "# Combine all widgets\n",
    "all_widget = ipywidgets.VBox([\n",
    "    ipywidgets.HBox([data_collection_widget, live_execution_widget]), \n",
    "    train_eval_widget,\n",
    "    model_widget\n",
    "])\n",
    "\n",
    "# Display the widget\n",
    "display(all_widget)"
   ]
  },
  {
   "cell_type": "code",
   "execution_count": 16,
   "id": "c218edbd",
   "metadata": {},
   "outputs": [
    {
     "data": {
      "text/plain": [
       "<function __main__.cleanup()>"
      ]
     },
     "execution_count": 16,
     "metadata": {},
     "output_type": "execute_result"
    }
   ],
   "source": [
    "# Start updating the camera feed\n",
    "def update_camera():\n",
    "    while True:\n",
    "        update_image()\n",
    "        time.sleep(0.03)  # Update at approximately 30 FPS\n",
    "\n",
    "camera_thread = threading.Thread(target=update_camera, daemon=True)\n",
    "camera_thread.start()\n",
    "\n",
    "# Clean up\n",
    "def cleanup():\n",
    "    camera.release()\n",
    "\n",
    "# Register the cleanup function to be called when the kernel is shut down\n",
    "import atexit\n",
    "atexit.register(cleanup)"
   ]
  },
  {
   "cell_type": "code",
   "execution_count": null,
   "id": "b00b0ea2",
   "metadata": {},
   "outputs": [],
   "source": []
  }
 ],
 "metadata": {
  "kernelspec": {
   "display_name": "base",
   "language": "python",
   "name": "python3"
  },
  "language_info": {
   "codemirror_mode": {
    "name": "ipython",
    "version": 3
   },
   "file_extension": ".py",
   "mimetype": "text/x-python",
   "name": "python",
   "nbconvert_exporter": "python",
   "pygments_lexer": "ipython3",
   "version": "3.11.5"
  }
 },
 "nbformat": 4,
 "nbformat_minor": 5
}
